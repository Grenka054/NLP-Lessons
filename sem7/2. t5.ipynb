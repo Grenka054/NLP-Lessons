{
 "cells": [
  {
   "cell_type": "code",
   "execution_count": 1,
   "metadata": {
    "id": "LhixQm87lrcQ"
   },
   "outputs": [
    {
     "name": "stdout",
     "output_type": "stream",
     "text": [
      "\u001b[33mWARNING: Ignoring invalid distribution -ensorflow (/home/marie/newenv/lib/python3.8/site-packages)\u001b[0m\u001b[33m\n",
      "\u001b[0m\u001b[33mWARNING: Ignoring invalid distribution -ensorflow (/home/marie/newenv/lib/python3.8/site-packages)\u001b[0m\u001b[33m\n",
      "\u001b[0mRequirement already satisfied: datasets in /home/marie/newenv/lib/python3.8/site-packages (2.6.1)\n",
      "Requirement already satisfied: xxhash in /home/marie/newenv/lib/python3.8/site-packages (from datasets) (3.1.0)\n",
      "Requirement already satisfied: numpy>=1.17 in /home/marie/newenv/lib/python3.8/site-packages (from datasets) (1.23.5)\n",
      "Requirement already satisfied: responses<0.19 in /home/marie/newenv/lib/python3.8/site-packages (from datasets) (0.18.0)\n",
      "Requirement already satisfied: dill<0.3.6 in /home/marie/newenv/lib/python3.8/site-packages (from datasets) (0.3.5.1)\n",
      "Requirement already satisfied: pyyaml>=5.1 in /home/marie/newenv/lib/python3.8/site-packages (from datasets) (6.0)\n",
      "Requirement already satisfied: tqdm>=4.62.1 in /home/marie/newenv/lib/python3.8/site-packages (from datasets) (4.62.2)\n",
      "Requirement already satisfied: pandas in /home/marie/newenv/lib/python3.8/site-packages (from datasets) (1.5.2)\n",
      "Requirement already satisfied: multiprocess in /home/marie/newenv/lib/python3.8/site-packages (from datasets) (0.70.13)\n",
      "Requirement already satisfied: requests>=2.19.0 in /home/marie/newenv/lib/python3.8/site-packages (from datasets) (2.22.0)\n",
      "Requirement already satisfied: aiohttp in /home/marie/newenv/lib/python3.8/site-packages (from datasets) (3.8.3)\n",
      "Requirement already satisfied: pyarrow>=6.0.0 in /home/marie/newenv/lib/python3.8/site-packages (from datasets) (9.0.0)\n",
      "Requirement already satisfied: fsspec[http]>=2021.11.1 in /home/marie/newenv/lib/python3.8/site-packages (from datasets) (2022.10.0)\n",
      "Requirement already satisfied: huggingface-hub<1.0.0,>=0.2.0 in /home/marie/newenv/lib/python3.8/site-packages (from datasets) (0.10.1)\n",
      "Requirement already satisfied: packaging in /home/marie/newenv/lib/python3.8/site-packages (from datasets) (20.9)\n",
      "Requirement already satisfied: yarl<2.0,>=1.0 in /home/marie/newenv/lib/python3.8/site-packages (from aiohttp->datasets) (1.6.3)\n",
      "Requirement already satisfied: aiosignal>=1.1.2 in /home/marie/newenv/lib/python3.8/site-packages (from aiohttp->datasets) (1.2.0)\n",
      "Requirement already satisfied: frozenlist>=1.1.1 in /home/marie/newenv/lib/python3.8/site-packages (from aiohttp->datasets) (1.3.1)\n",
      "Requirement already satisfied: multidict<7.0,>=4.5 in /home/marie/newenv/lib/python3.8/site-packages (from aiohttp->datasets) (5.1.0)\n",
      "Requirement already satisfied: async-timeout<5.0,>=4.0.0a3 in /home/marie/newenv/lib/python3.8/site-packages (from aiohttp->datasets) (4.0.2)\n",
      "Requirement already satisfied: charset-normalizer<3.0,>=2.0 in /home/marie/newenv/lib/python3.8/site-packages (from aiohttp->datasets) (2.1.1)\n",
      "Requirement already satisfied: attrs>=17.3.0 in /home/marie/newenv/lib/python3.8/site-packages (from aiohttp->datasets) (20.3.0)\n",
      "Requirement already satisfied: typing-extensions>=3.7.4.3 in /home/marie/newenv/lib/python3.8/site-packages (from huggingface-hub<1.0.0,>=0.2.0->datasets) (3.7.4.3)\n",
      "Requirement already satisfied: filelock in /home/marie/newenv/lib/python3.8/site-packages (from huggingface-hub<1.0.0,>=0.2.0->datasets) (3.0.12)\n",
      "Requirement already satisfied: pyparsing>=2.0.2 in /home/marie/newenv/lib/python3.8/site-packages (from packaging->datasets) (2.4.7)\n",
      "Requirement already satisfied: idna<2.9,>=2.5 in /home/marie/newenv/lib/python3.8/site-packages (from requests>=2.19.0->datasets) (2.8)\n",
      "Requirement already satisfied: chardet<3.1.0,>=3.0.2 in /home/marie/newenv/lib/python3.8/site-packages (from requests>=2.19.0->datasets) (3.0.4)\n",
      "Requirement already satisfied: urllib3!=1.25.0,!=1.25.1,<1.26,>=1.21.1 in /home/marie/newenv/lib/python3.8/site-packages (from requests>=2.19.0->datasets) (1.25.11)\n",
      "Requirement already satisfied: certifi>=2017.4.17 in /home/marie/newenv/lib/python3.8/site-packages (from requests>=2.19.0->datasets) (2020.12.5)\n",
      "Requirement already satisfied: pytz>=2020.1 in /home/marie/newenv/lib/python3.8/site-packages (from pandas->datasets) (2022.6)\n",
      "Requirement already satisfied: python-dateutil>=2.8.1 in /home/marie/newenv/lib/python3.8/site-packages (from pandas->datasets) (2.8.1)\n",
      "Requirement already satisfied: six>=1.5 in /home/marie/newenv/lib/python3.8/site-packages (from python-dateutil>=2.8.1->pandas->datasets) (1.15.0)\n",
      "\u001b[33mWARNING: Ignoring invalid distribution -ensorflow (/home/marie/newenv/lib/python3.8/site-packages)\u001b[0m\u001b[33m\n",
      "\u001b[0m\u001b[33mWARNING: Ignoring invalid distribution -ensorflow (/home/marie/newenv/lib/python3.8/site-packages)\u001b[0m\u001b[33m\n",
      "\u001b[0m\u001b[33mWARNING: Ignoring invalid distribution -ensorflow (/home/marie/newenv/lib/python3.8/site-packages)\u001b[0m\u001b[33m\n",
      "\u001b[0m\u001b[33mWARNING: Ignoring invalid distribution -ensorflow (/home/marie/newenv/lib/python3.8/site-packages)\u001b[0m\u001b[33m\n",
      "\u001b[0m\u001b[33mWARNING: You are using pip version 22.0.4; however, version 23.3.1 is available.\n",
      "You should consider upgrading via the '/home/marie/newenv/bin/python3 -m pip install --upgrade pip' command.\u001b[0m\u001b[33m\n",
      "\u001b[0m\u001b[33mWARNING: Ignoring invalid distribution -ensorflow (/home/marie/newenv/lib/python3.8/site-packages)\u001b[0m\u001b[33m\n",
      "\u001b[0m\u001b[33mWARNING: Ignoring invalid distribution -ensorflow (/home/marie/newenv/lib/python3.8/site-packages)\u001b[0m\u001b[33m\n",
      "\u001b[0mRequirement already satisfied: torch in /home/marie/newenv/lib/python3.8/site-packages (1.12.1)\n",
      "Requirement already satisfied: torchvision in /home/marie/newenv/lib/python3.8/site-packages (0.13.1)\n",
      "Requirement already satisfied: torchaudio in /home/marie/newenv/lib/python3.8/site-packages (0.12.1)\n",
      "Requirement already satisfied: typing-extensions in /home/marie/newenv/lib/python3.8/site-packages (from torch) (3.7.4.3)\n",
      "Requirement already satisfied: pillow!=8.3.*,>=5.3.0 in /home/marie/newenv/lib/python3.8/site-packages (from torchvision) (9.4.0)\n",
      "Requirement already satisfied: numpy in /home/marie/newenv/lib/python3.8/site-packages (from torchvision) (1.23.5)\n",
      "Requirement already satisfied: requests in /home/marie/newenv/lib/python3.8/site-packages (from torchvision) (2.22.0)\n",
      "Requirement already satisfied: certifi>=2017.4.17 in /home/marie/newenv/lib/python3.8/site-packages (from requests->torchvision) (2020.12.5)\n",
      "Requirement already satisfied: idna<2.9,>=2.5 in /home/marie/newenv/lib/python3.8/site-packages (from requests->torchvision) (2.8)\n",
      "Requirement already satisfied: chardet<3.1.0,>=3.0.2 in /home/marie/newenv/lib/python3.8/site-packages (from requests->torchvision) (3.0.4)\n",
      "Requirement already satisfied: urllib3!=1.25.0,!=1.25.1,<1.26,>=1.21.1 in /home/marie/newenv/lib/python3.8/site-packages (from requests->torchvision) (1.25.11)\n",
      "\u001b[33mWARNING: Ignoring invalid distribution -ensorflow (/home/marie/newenv/lib/python3.8/site-packages)\u001b[0m\u001b[33m\n",
      "\u001b[0m\u001b[33mWARNING: Ignoring invalid distribution -ensorflow (/home/marie/newenv/lib/python3.8/site-packages)\u001b[0m\u001b[33m\n",
      "\u001b[0m\u001b[33mWARNING: Ignoring invalid distribution -ensorflow (/home/marie/newenv/lib/python3.8/site-packages)\u001b[0m\u001b[33m\n",
      "\u001b[0m\u001b[33mWARNING: Ignoring invalid distribution -ensorflow (/home/marie/newenv/lib/python3.8/site-packages)\u001b[0m\u001b[33m\n",
      "\u001b[0m\u001b[33mWARNING: You are using pip version 22.0.4; however, version 23.3.1 is available.\n",
      "You should consider upgrading via the '/home/marie/newenv/bin/python3 -m pip install --upgrade pip' command.\u001b[0m\u001b[33m\n",
      "\u001b[0m\u001b[33mWARNING: Ignoring invalid distribution -ensorflow (/home/marie/newenv/lib/python3.8/site-packages)\u001b[0m\u001b[33m\n",
      "\u001b[0m\u001b[33mWARNING: Ignoring invalid distribution -ensorflow (/home/marie/newenv/lib/python3.8/site-packages)\u001b[0m\u001b[33m\n",
      "\u001b[0mRequirement already satisfied: transformers in /home/marie/newenv/lib/python3.8/site-packages (4.25.1)\n",
      "Requirement already satisfied: huggingface-hub<1.0,>=0.10.0 in /home/marie/newenv/lib/python3.8/site-packages (from transformers) (0.10.1)\n",
      "Requirement already satisfied: regex!=2019.12.17 in /home/marie/newenv/lib/python3.8/site-packages (from transformers) (2022.9.13)\n",
      "Requirement already satisfied: packaging>=20.0 in /home/marie/newenv/lib/python3.8/site-packages (from transformers) (20.9)\n",
      "Requirement already satisfied: filelock in /home/marie/newenv/lib/python3.8/site-packages (from transformers) (3.0.12)\n",
      "Requirement already satisfied: requests in /home/marie/newenv/lib/python3.8/site-packages (from transformers) (2.22.0)\n",
      "Requirement already satisfied: numpy>=1.17 in /home/marie/newenv/lib/python3.8/site-packages (from transformers) (1.23.5)\n",
      "Requirement already satisfied: tokenizers!=0.11.3,<0.14,>=0.11.1 in /home/marie/newenv/lib/python3.8/site-packages (from transformers) (0.13.2)\n",
      "Requirement already satisfied: pyyaml>=5.1 in /home/marie/newenv/lib/python3.8/site-packages (from transformers) (6.0)\n",
      "Requirement already satisfied: tqdm>=4.27 in /home/marie/newenv/lib/python3.8/site-packages (from transformers) (4.62.2)\n",
      "Requirement already satisfied: typing-extensions>=3.7.4.3 in /home/marie/newenv/lib/python3.8/site-packages (from huggingface-hub<1.0,>=0.10.0->transformers) (3.7.4.3)\n",
      "Requirement already satisfied: pyparsing>=2.0.2 in /home/marie/newenv/lib/python3.8/site-packages (from packaging>=20.0->transformers) (2.4.7)\n",
      "Requirement already satisfied: certifi>=2017.4.17 in /home/marie/newenv/lib/python3.8/site-packages (from requests->transformers) (2020.12.5)\n",
      "Requirement already satisfied: urllib3!=1.25.0,!=1.25.1,<1.26,>=1.21.1 in /home/marie/newenv/lib/python3.8/site-packages (from requests->transformers) (1.25.11)\n",
      "Requirement already satisfied: idna<2.9,>=2.5 in /home/marie/newenv/lib/python3.8/site-packages (from requests->transformers) (2.8)\n",
      "Requirement already satisfied: chardet<3.1.0,>=3.0.2 in /home/marie/newenv/lib/python3.8/site-packages (from requests->transformers) (3.0.4)\n",
      "\u001b[33mWARNING: Ignoring invalid distribution -ensorflow (/home/marie/newenv/lib/python3.8/site-packages)\u001b[0m\u001b[33m\n",
      "\u001b[0m\u001b[33mWARNING: Ignoring invalid distribution -ensorflow (/home/marie/newenv/lib/python3.8/site-packages)\u001b[0m\u001b[33m\n",
      "\u001b[0m\u001b[33mWARNING: Ignoring invalid distribution -ensorflow (/home/marie/newenv/lib/python3.8/site-packages)\u001b[0m\u001b[33m\n",
      "\u001b[0m\u001b[33mWARNING: Ignoring invalid distribution -ensorflow (/home/marie/newenv/lib/python3.8/site-packages)\u001b[0m\u001b[33m\n",
      "\u001b[0m\u001b[33mWARNING: You are using pip version 22.0.4; however, version 23.3.1 is available.\n",
      "You should consider upgrading via the '/home/marie/newenv/bin/python3 -m pip install --upgrade pip' command.\u001b[0m\u001b[33m\n",
      "\u001b[0m\u001b[33mWARNING: Ignoring invalid distribution -ensorflow (/home/marie/newenv/lib/python3.8/site-packages)\u001b[0m\u001b[33m\n",
      "\u001b[0m\u001b[33mWARNING: Ignoring invalid distribution -ensorflow (/home/marie/newenv/lib/python3.8/site-packages)\u001b[0m\u001b[33m\n",
      "\u001b[0mRequirement already satisfied: rouge-score in /home/marie/newenv/lib/python3.8/site-packages (0.1.2)\n",
      "Requirement already satisfied: nltk in /home/marie/newenv/lib/python3.8/site-packages (3.4.5)\n",
      "Requirement already satisfied: numpy in /home/marie/newenv/lib/python3.8/site-packages (from rouge-score) (1.23.5)\n",
      "Requirement already satisfied: absl-py in /home/marie/newenv/lib/python3.8/site-packages (from rouge-score) (0.11.0)\n",
      "Requirement already satisfied: six>=1.14.0 in /home/marie/newenv/lib/python3.8/site-packages (from rouge-score) (1.15.0)\n",
      "\u001b[33mWARNING: Ignoring invalid distribution -ensorflow (/home/marie/newenv/lib/python3.8/site-packages)\u001b[0m\u001b[33m\n",
      "\u001b[0m\u001b[33mWARNING: Ignoring invalid distribution -ensorflow (/home/marie/newenv/lib/python3.8/site-packages)\u001b[0m\u001b[33m\n",
      "\u001b[0m\u001b[33mWARNING: Ignoring invalid distribution -ensorflow (/home/marie/newenv/lib/python3.8/site-packages)\u001b[0m\u001b[33m\n",
      "\u001b[0m\u001b[33mWARNING: Ignoring invalid distribution -ensorflow (/home/marie/newenv/lib/python3.8/site-packages)\u001b[0m\u001b[33m\n",
      "\u001b[0m\u001b[33mWARNING: You are using pip version 22.0.4; however, version 23.3.1 is available.\n",
      "You should consider upgrading via the '/home/marie/newenv/bin/python3 -m pip install --upgrade pip' command.\u001b[0m\u001b[33m\n",
      "\u001b[0m\u001b[33mWARNING: Ignoring invalid distribution -ensorflow (/home/marie/newenv/lib/python3.8/site-packages)\u001b[0m\u001b[33m\n",
      "\u001b[0m\u001b[33mWARNING: Ignoring invalid distribution -ensorflow (/home/marie/newenv/lib/python3.8/site-packages)\u001b[0m\u001b[33m\n",
      "\u001b[0mRequirement already satisfied: sentencepiece in /home/marie/newenv/lib/python3.8/site-packages (0.1.97)\n",
      "\u001b[33mWARNING: Ignoring invalid distribution -ensorflow (/home/marie/newenv/lib/python3.8/site-packages)\u001b[0m\u001b[33m\n",
      "\u001b[0m\u001b[33mWARNING: Ignoring invalid distribution -ensorflow (/home/marie/newenv/lib/python3.8/site-packages)\u001b[0m\u001b[33m\n",
      "\u001b[0m\u001b[33mWARNING: Ignoring invalid distribution -ensorflow (/home/marie/newenv/lib/python3.8/site-packages)\u001b[0m\u001b[33m\n",
      "\u001b[0m\u001b[33mWARNING: Ignoring invalid distribution -ensorflow (/home/marie/newenv/lib/python3.8/site-packages)\u001b[0m\u001b[33m\n",
      "\u001b[0m\u001b[33mWARNING: You are using pip version 22.0.4; however, version 23.3.1 is available.\n",
      "You should consider upgrading via the '/home/marie/newenv/bin/python3 -m pip install --upgrade pip' command.\u001b[0m\u001b[33m\n",
      "\u001b[0m\u001b[33mWARNING: Ignoring invalid distribution -ensorflow (/home/marie/newenv/lib/python3.8/site-packages)\u001b[0m\u001b[33m\n",
      "\u001b[0m\u001b[33mWARNING: Ignoring invalid distribution -ensorflow (/home/marie/newenv/lib/python3.8/site-packages)\u001b[0m\u001b[33m\n",
      "\u001b[0mRequirement already satisfied: evaluate in /home/marie/newenv/lib/python3.8/site-packages (0.3.0)\n",
      "Requirement already satisfied: huggingface-hub>=0.7.0 in /home/marie/newenv/lib/python3.8/site-packages (from evaluate) (0.10.1)\n",
      "Requirement already satisfied: requests>=2.19.0 in /home/marie/newenv/lib/python3.8/site-packages (from evaluate) (2.22.0)\n",
      "Requirement already satisfied: fsspec[http]>=2021.05.0 in /home/marie/newenv/lib/python3.8/site-packages (from evaluate) (2022.10.0)\n",
      "Requirement already satisfied: packaging in /home/marie/newenv/lib/python3.8/site-packages (from evaluate) (20.9)\n",
      "Requirement already satisfied: pandas in /home/marie/newenv/lib/python3.8/site-packages (from evaluate) (1.5.2)\n",
      "Requirement already satisfied: multiprocess in /home/marie/newenv/lib/python3.8/site-packages (from evaluate) (0.70.13)\n",
      "Requirement already satisfied: numpy>=1.17 in /home/marie/newenv/lib/python3.8/site-packages (from evaluate) (1.23.5)\n",
      "Requirement already satisfied: datasets>=2.0.0 in /home/marie/newenv/lib/python3.8/site-packages (from evaluate) (2.6.1)\n",
      "Requirement already satisfied: dill in /home/marie/newenv/lib/python3.8/site-packages (from evaluate) (0.3.5.1)\n",
      "Requirement already satisfied: xxhash in /home/marie/newenv/lib/python3.8/site-packages (from evaluate) (3.1.0)\n",
      "Requirement already satisfied: responses<0.19 in /home/marie/newenv/lib/python3.8/site-packages (from evaluate) (0.18.0)\n",
      "Requirement already satisfied: tqdm>=4.62.1 in /home/marie/newenv/lib/python3.8/site-packages (from evaluate) (4.62.2)\n",
      "Requirement already satisfied: aiohttp in /home/marie/newenv/lib/python3.8/site-packages (from datasets>=2.0.0->evaluate) (3.8.3)\n",
      "Requirement already satisfied: pyyaml>=5.1 in /home/marie/newenv/lib/python3.8/site-packages (from datasets>=2.0.0->evaluate) (6.0)\n",
      "Requirement already satisfied: pyarrow>=6.0.0 in /home/marie/newenv/lib/python3.8/site-packages (from datasets>=2.0.0->evaluate) (9.0.0)\n",
      "Requirement already satisfied: filelock in /home/marie/newenv/lib/python3.8/site-packages (from huggingface-hub>=0.7.0->evaluate) (3.0.12)\n",
      "Requirement already satisfied: typing-extensions>=3.7.4.3 in /home/marie/newenv/lib/python3.8/site-packages (from huggingface-hub>=0.7.0->evaluate) (3.7.4.3)\n",
      "Requirement already satisfied: pyparsing>=2.0.2 in /home/marie/newenv/lib/python3.8/site-packages (from packaging->evaluate) (2.4.7)\n",
      "Requirement already satisfied: certifi>=2017.4.17 in /home/marie/newenv/lib/python3.8/site-packages (from requests>=2.19.0->evaluate) (2020.12.5)\n",
      "Requirement already satisfied: chardet<3.1.0,>=3.0.2 in /home/marie/newenv/lib/python3.8/site-packages (from requests>=2.19.0->evaluate) (3.0.4)\n",
      "Requirement already satisfied: idna<2.9,>=2.5 in /home/marie/newenv/lib/python3.8/site-packages (from requests>=2.19.0->evaluate) (2.8)\n",
      "Requirement already satisfied: urllib3!=1.25.0,!=1.25.1,<1.26,>=1.21.1 in /home/marie/newenv/lib/python3.8/site-packages (from requests>=2.19.0->evaluate) (1.25.11)\n",
      "Requirement already satisfied: python-dateutil>=2.8.1 in /home/marie/newenv/lib/python3.8/site-packages (from pandas->evaluate) (2.8.1)\n",
      "Requirement already satisfied: pytz>=2020.1 in /home/marie/newenv/lib/python3.8/site-packages (from pandas->evaluate) (2022.6)\n",
      "Requirement already satisfied: multidict<7.0,>=4.5 in /home/marie/newenv/lib/python3.8/site-packages (from aiohttp->datasets>=2.0.0->evaluate) (5.1.0)\n",
      "Requirement already satisfied: async-timeout<5.0,>=4.0.0a3 in /home/marie/newenv/lib/python3.8/site-packages (from aiohttp->datasets>=2.0.0->evaluate) (4.0.2)\n",
      "Requirement already satisfied: attrs>=17.3.0 in /home/marie/newenv/lib/python3.8/site-packages (from aiohttp->datasets>=2.0.0->evaluate) (20.3.0)\n",
      "Requirement already satisfied: yarl<2.0,>=1.0 in /home/marie/newenv/lib/python3.8/site-packages (from aiohttp->datasets>=2.0.0->evaluate) (1.6.3)\n",
      "Requirement already satisfied: frozenlist>=1.1.1 in /home/marie/newenv/lib/python3.8/site-packages (from aiohttp->datasets>=2.0.0->evaluate) (1.3.1)\n",
      "Requirement already satisfied: aiosignal>=1.1.2 in /home/marie/newenv/lib/python3.8/site-packages (from aiohttp->datasets>=2.0.0->evaluate) (1.2.0)\n",
      "Requirement already satisfied: charset-normalizer<3.0,>=2.0 in /home/marie/newenv/lib/python3.8/site-packages (from aiohttp->datasets>=2.0.0->evaluate) (2.1.1)\n",
      "Requirement already satisfied: six>=1.5 in /home/marie/newenv/lib/python3.8/site-packages (from python-dateutil>=2.8.1->pandas->evaluate) (1.15.0)\n",
      "\u001b[33mWARNING: Ignoring invalid distribution -ensorflow (/home/marie/newenv/lib/python3.8/site-packages)\u001b[0m\u001b[33m\n",
      "\u001b[0m\u001b[33mWARNING: Ignoring invalid distribution -ensorflow (/home/marie/newenv/lib/python3.8/site-packages)\u001b[0m\u001b[33m\n",
      "\u001b[0m\u001b[33mWARNING: Ignoring invalid distribution -ensorflow (/home/marie/newenv/lib/python3.8/site-packages)\u001b[0m\u001b[33m\n",
      "\u001b[0m\u001b[33mWARNING: Ignoring invalid distribution -ensorflow (/home/marie/newenv/lib/python3.8/site-packages)\u001b[0m\u001b[33m\n",
      "\u001b[0m\u001b[33mWARNING: You are using pip version 22.0.4; however, version 23.3.1 is available.\n",
      "You should consider upgrading via the '/home/marie/newenv/bin/python3 -m pip install --upgrade pip' command.\u001b[0m\u001b[33m\n",
      "\u001b[0m"
     ]
    }
   ],
   "source": [
    "!pip install datasets\n",
    "!pip install torch torchvision torchaudio\n",
    "!pip install transformers\n",
    "!pip install rouge-score nltk\n",
    "!pip install sentencepiece\n",
    "!pip install evaluate"
   ]
  },
  {
   "cell_type": "code",
   "execution_count": 8,
   "metadata": {
    "colab": {
     "base_uri": "https://localhost:8080/"
    },
    "id": "iYMuTf62esO2",
    "outputId": "382c3c55-9913-480d-f119-06eece858775",
    "scrolled": true
   },
   "outputs": [
    {
     "name": "stderr",
     "output_type": "stream",
     "text": [
      "[nltk_data] Downloading package punkt to /home/marie/nltk_data...\n",
      "[nltk_data]   Package punkt is already up-to-date!\n"
     ]
    },
    {
     "data": {
      "text/plain": [
       "True"
      ]
     },
     "execution_count": 8,
     "metadata": {},
     "output_type": "execute_result"
    }
   ],
   "source": [
    "import nltk\n",
    "nltk.download('punkt')"
   ]
  },
  {
   "cell_type": "code",
   "execution_count": 9,
   "metadata": {
    "id": "bQZk_aZvfq7s"
   },
   "outputs": [],
   "source": [
    "from datasets import load_dataset, load_metric\n",
    "from transformers import (\n",
    "    DataCollatorForSeq2Seq,\n",
    "    MT5ForConditionalGeneration,\n",
    "    MT5Tokenizer,\n",
    "    pipeline,\n",
    "    Seq2SeqTrainingArguments,\n",
    "    Seq2SeqTrainer,\n",
    ") \n",
    "import evaluate\n",
    "import numpy as np\n",
    "import datasets"
   ]
  },
  {
   "cell_type": "code",
   "execution_count": 10,
   "metadata": {
    "colab": {
     "base_uri": "https://localhost:8080/",
     "height": 49,
     "referenced_widgets": [
      "709dbbd87d9748bcbd260b88469d342d",
      "dc78087844ad4ecfa6856fe006a69635",
      "2feb4091ffb24ac88c6f4908cbcbe6c0",
      "1694044776c140648300869f43fc48bb",
      "b97a81546451420883109c625b55f25a",
      "9d6a52a8136649acbde0c7497242b044",
      "b66ba5bd8eb44c0a9d07afa33fe4bf0e",
      "07227f735cbf498ab21aab920661b66f",
      "133be2832be4467d92214a8b7534b1e6",
      "4e5fe7e1aabb4a0d890f07b67d080201",
      "9766f263b45740e39717d0369caa8c44"
     ]
    },
    "id": "nynyn77Dfh7b",
    "outputId": "fc9cc1fc-079a-43ef-b4a5-f8d017d4420b"
   },
   "outputs": [],
   "source": [
    "tokenizer = MT5Tokenizer.from_pretrained(\"google/mt5-small\")  # cointegrated/rut5-small google/mt5-small\n",
    "model = MT5ForConditionalGeneration.from_pretrained('google/mt5-small')\n",
    "\n",
    "# tokenizer = MT5Tokenizer.from_pretrained(\"results/checkpoint-121500\")  # это если мы хотим подгрузить веса модели которую уже обучали\n",
    "# model = MT5ForConditionalGeneration.from_pretrained('results/checkpoint-121500')"
   ]
  },
  {
   "cell_type": "code",
   "execution_count": 11,
   "metadata": {
    "id": "_kYLU1PYfxqE"
   },
   "outputs": [],
   "source": [
    "max_target_tokens_count = 128\n",
    "max_source_tokens_count = 1024\n",
    "\n",
    "\n",
    "def preprocess_function(examples):\n",
    "    inputs = examples[\"text\"]\n",
    "    model_inputs = tokenizer(inputs, max_length=max_source_tokens_count, truncation=True)\n",
    "\n",
    "    labels = tokenizer(text_target=examples[\"summary\"], max_length=max_target_tokens_count, truncation=True)\n",
    "\n",
    "    model_inputs[\"labels\"] = labels[\"input_ids\"]\n",
    "    \n",
    "    return model_inputs"
   ]
  },
  {
   "cell_type": "code",
   "execution_count": 7,
   "metadata": {
    "colab": {
     "base_uri": "https://localhost:8080/",
     "height": 104,
     "referenced_widgets": [
      "63b4cb1046094f76b16a8d850836ee8c",
      "462fe0525afe4e98b91fbbac96667de7",
      "bc47889ca9c84981a9c4cf0f51684e9c",
      "49dabea105f641029e264ff04e038566",
      "534f48ba70894f3e8a08a1475f722542",
      "f8d81eb5c72f48559f34b94a0311924b",
      "d7cb38d1bba8410db73ff8939feb0c0c",
      "5c18e6505317441ab5a30de4bc2ec51e",
      "ee9f44cd7cb54cf58ea29651e340037f",
      "a475e18e42d7404bae8591f80c602b33",
      "5d562be777d345f2a1253ff4ec4f4323"
     ]
    },
    "id": "ZHAZ-uoTsfti",
    "outputId": "e28f0da4-8aee-4068-8b6b-11512fa063b5"
   },
   "outputs": [
    {
     "name": "stderr",
     "output_type": "stream",
     "text": [
      "No config specified, defaulting to: gazeta/default\n",
      "Found cached dataset gazeta (/home/marie/.cache/huggingface/datasets/IlyaGusev___gazeta/default/2.0.0/c329f0fc1c22ab6e43e0045ee659d0d43c647492baa2a6ab3a5ea7dac98cd552)\n"
     ]
    },
    {
     "data": {
      "application/vnd.jupyter.widget-view+json": {
       "model_id": "b9472c63b59f4247b5faa279ac2cc6e2",
       "version_major": 2,
       "version_minor": 0
      },
      "text/plain": [
       "  0%|          | 0/3 [00:00<?, ?it/s]"
      ]
     },
     "metadata": {},
     "output_type": "display_data"
    },
    {
     "name": "stderr",
     "output_type": "stream",
     "text": [
      "Loading cached processed dataset at /home/marie/.cache/huggingface/datasets/IlyaGusev___gazeta/default/2.0.0/c329f0fc1c22ab6e43e0045ee659d0d43c647492baa2a6ab3a5ea7dac98cd552/cache-dcff2e3e8af4e408.arrow\n",
      "Loading cached processed dataset at /home/marie/.cache/huggingface/datasets/IlyaGusev___gazeta/default/2.0.0/c329f0fc1c22ab6e43e0045ee659d0d43c647492baa2a6ab3a5ea7dac98cd552/cache-383555cb89ad5c49.arrow\n",
      "Loading cached processed dataset at /home/marie/.cache/huggingface/datasets/IlyaGusev___gazeta/default/2.0.0/c329f0fc1c22ab6e43e0045ee659d0d43c647492baa2a6ab3a5ea7dac98cd552/cache-123aab2cbcbfa8b3.arrow\n"
     ]
    }
   ],
   "source": [
    "dataset = load_dataset('IlyaGusev/gazeta',revision=\"v2.0\")\n",
    "tokenized_dataset = dataset.map(preprocess_function, batched=True)"
   ]
  },
  {
   "cell_type": "code",
   "execution_count": 12,
   "metadata": {
    "id": "lMebQnimgPO8"
   },
   "outputs": [],
   "source": [
    "data_collator = DataCollatorForSeq2Seq(tokenizer=tokenizer, model=model)"
   ]
  },
  {
   "cell_type": "code",
   "execution_count": 13,
   "metadata": {
    "colab": {
     "base_uri": "https://localhost:8080/",
     "height": 200,
     "referenced_widgets": [
      "ff23f2a7cefa4809beecf6da80fd8efc",
      "69a4a63657034c4295f524adf4bd055b",
      "e06a33459779440b84724bdb7d56adbc",
      "315d64930da34ae5a1fd8c973d2a1278",
      "23e80f6e4d3e4f7a8b609725b5e64c0a",
      "452a42a5468d47918e3550e44ce76d74",
      "8655d3b692e24de4a4cd461b40310b45",
      "855bba6d5f2740a1a0206d1fd9039921",
      "e4ee034a586040388581fa0aef1f2c82",
      "a130d6063bd84632b1aa8bf2ee4d1072",
      "fe55274fedd344f0aa96e805741d5a42",
      "7352a236cfe04323a0b091203b6339fe",
      "829623d832d24200b9433dc3a6a488cd",
      "4aa20aede47a4596a6ca4bd9076026be",
      "6bb04ab5465b43c8b0d77d30729e6b98",
      "6f334cf7f8584a16880bdff8379b7c63",
      "120e00cd79cc4e5f8a84bd44eebcb09c",
      "d3ba979e5f294a25bdf53041460234aa",
      "2a1b2bbff2824ee9b787ffb852de969e",
      "5ccf5e216b6f42cfafbba9c45173f91b",
      "bd892f8698a7452bae579ddf28270706",
      "eb15a093cd584a2d9dd9f17ea36e14f6",
      "a7dcc0cf145d452fadf75d9f1f3164f2",
      "dbda036e9c8147d3bb10eaeb99d93d50",
      "ac01fb72065d417aa3435224f9dcca36",
      "0b49b00d2bb84554a6b3f9f4f0c75a27",
      "fdd0e891b78e46baa47a6c37f84f14bf",
      "1be56407bf5e4e3789d92d6695f630d6",
      "bfafb15869f64905be845cabf1f4af66",
      "45905a6165e6408d822c5a4ab44776d8",
      "639281d17db14e2cb9d1046e26858dab",
      "6692adc9f1e64a03808d2f2042a7776b",
      "cf74bc353caa41ae9bc973b4c67b1a27",
      "99a9425c0d0b4c4497fb7c8599c84951",
      "affe68c841a343f8bf73b46ef414d9e8",
      "26e686a834fe467d974b83e310835ced",
      "f25d6d594d024fb3862d4d4466f6d9b7",
      "e9e91a9316c14d62b0fc640ed0a706b9",
      "393356139bfb4fd1b0f65d43a8187e3f",
      "1e3f78cc1f2148ae996d9800365265ce",
      "c76c9dbfef1b4c628ebca65c37c4685c",
      "540da5e51f0b48a6836a22bee7d0d150",
      "698c162504884f65babb866a27f5a658",
      "2545fca9cebc4820ba2f30c43ffe5d92"
     ]
    },
    "id": "qRvHK5KugXuk",
    "outputId": "e4028eea-e437-4c87-b647-c1d5ebf57cf6"
   },
   "outputs": [
    {
     "name": "stderr",
     "output_type": "stream",
     "text": [
      "<ipython-input-13-9921d770c86d>:1: FutureWarning: load_metric is deprecated and will be removed in the next major version of datasets. Use 'evaluate.load' instead, from the new library 🤗 Evaluate: https://huggingface.co/docs/evaluate\n",
      "  rouge = load_metric(\"rouge\")\n"
     ]
    },
    {
     "data": {
      "application/vnd.jupyter.widget-view+json": {
       "model_id": "11f92bcfc0e040059fdc45394620f978",
       "version_major": 2,
       "version_minor": 0
      },
      "text/plain": [
       "Downloading builder script:   0%|          | 0.00/2.16k [00:00<?, ?B/s]"
      ]
     },
     "metadata": {},
     "output_type": "display_data"
    },
    {
     "data": {
      "application/vnd.jupyter.widget-view+json": {
       "model_id": "9c4292afa44e465c982d9470d322988f",
       "version_major": 2,
       "version_minor": 0
      },
      "text/plain": [
       "Downloading builder script:   0%|          | 0.00/5.94k [00:00<?, ?B/s]"
      ]
     },
     "metadata": {},
     "output_type": "display_data"
    },
    {
     "data": {
      "application/vnd.jupyter.widget-view+json": {
       "model_id": "a9728c25afe9421a83ab4e4dd3af958d",
       "version_major": 2,
       "version_minor": 0
      },
      "text/plain": [
       "Downloading extra modules:   0%|          | 0.00/1.55k [00:00<?, ?B/s]"
      ]
     },
     "metadata": {},
     "output_type": "display_data"
    },
    {
     "data": {
      "application/vnd.jupyter.widget-view+json": {
       "model_id": "b0e0c2b88eeb4c79bac8aaee228e550c",
       "version_major": 2,
       "version_minor": 0
      },
      "text/plain": [
       "Downloading extra modules:   0%|          | 0.00/3.34k [00:00<?, ?B/s]"
      ]
     },
     "metadata": {},
     "output_type": "display_data"
    }
   ],
   "source": [
    "rouge = load_metric(\"rouge\")\n",
    "bleu = evaluate.load(\"bleu\")"
   ]
  },
  {
   "cell_type": "code",
   "execution_count": 14,
   "metadata": {
    "id": "wurnyNuHgwyi"
   },
   "outputs": [],
   "source": [
    "def compute_metrics(eval_pred):\n",
    "    predictions, labels = eval_pred\n",
    "    decoded_preds = tokenizer.batch_decode(predictions, skip_special_tokens=True)\n",
    "    # Replace -100 in the labels as we can't decode them.\n",
    "    labels = np.where(labels != -100, labels, tokenizer.pad_token_id)\n",
    "    decoded_labels = tokenizer.batch_decode(labels, skip_special_tokens=True)\n",
    "    \n",
    "    # Rouge expects a newline after each sentence\n",
    "    decoded_preds = [\"\\n\".join(nltk.sent_tokenize(pred.strip())) for pred in decoded_preds]\n",
    "    decoded_labels = [\"\\n\".join(nltk.sent_tokenize(label.strip())) for label in decoded_labels]\n",
    "    \n",
    "    result = {}\n",
    "    result_rouge = rouge.compute(predictions=decoded_preds, references=decoded_labels)\n",
    "    # Extract a few results\n",
    "    result.update({key: value.mid.fmeasure * 100 for key, value in result_rouge.items()})\n",
    "    \n",
    "    result_bleu = bleu.compute(predictions=decoded_preds, references=decoded_labels)\n",
    "    # Extract a few results\n",
    "    result[\"bleu\"] = result_bleu[\"bleu\"] * 100\n",
    "    \n",
    "    # Add mean generated length\n",
    "    prediction_lens = [np.count_nonzero(pred != tokenizer.pad_token_id) for pred in predictions]\n",
    "    result[\"gen_len\"] = np.mean(prediction_lens)\n",
    "    result[\"char_len\"] = np.mean([len(t) for t in decoded_preds])\n",
    "    \n",
    "    return {k: round(v, 4) for k, v in result.items()}"
   ]
  },
  {
   "cell_type": "code",
   "execution_count": 15,
   "metadata": {
    "id": "gljKqGgQg0tG"
   },
   "outputs": [],
   "source": [
    "training_args = Seq2SeqTrainingArguments(\n",
    "    output_dir=\"/content/drive/MyDrive/NLP/results\",\n",
    "    evaluation_strategy=\"steps\",\n",
    "    eval_steps=25,\n",
    "    logging_steps=25,\n",
    "    learning_rate=4e-4,\n",
    "    per_device_train_batch_size=4,\n",
    "    per_device_eval_batch_size=4,\n",
    "    gradient_accumulation_steps=64,\n",
    "    weight_decay=0.01,\n",
    "    save_total_limit=3,\n",
    "    num_train_epochs=1,\n",
    "    fp16=False,\n",
    "    predict_with_generate=True,\n",
    "    generation_max_length=max_target_tokens_count,\n",
    "    generation_num_beams=5\n",
    ")"
   ]
  },
  {
   "cell_type": "code",
   "execution_count": null,
   "metadata": {
    "id": "U3g-FfzChIHq"
   },
   "outputs": [],
   "source": [
    "trainer = Seq2SeqTrainer(\n",
    "    model=model,\n",
    "    args=training_args,\n",
    "    train_dataset=tokenized_dataset[\"train\"],\n",
    "    eval_dataset=tokenized_dataset[\"test\"],\n",
    "    tokenizer=tokenizer,\n",
    "    data_collator=data_collator,\n",
    "    compute_metrics=compute_metrics\n",
    ")"
   ]
  },
  {
   "cell_type": "code",
   "execution_count": null,
   "metadata": {
    "colab": {
     "base_uri": "https://localhost:8080/",
     "height": 376
    },
    "id": "9S6UxGdRhKrV",
    "outputId": "5f294e2a-908c-4d21-953e-a18ad33730fe"
   },
   "outputs": [],
   "source": [
    "trainer.train()"
   ]
  },
  {
   "cell_type": "code",
   "execution_count": null,
   "metadata": {
    "id": "VZZc5DMmhOEG"
   },
   "outputs": [],
   "source": [
    "trainer.evaluate()"
   ]
  }
 ],
 "metadata": {
  "colab": {
   "provenance": []
  },
  "kernelspec": {
   "display_name": "Python 3",
   "language": "python",
   "name": "python3"
  },
  "language_info": {
   "codemirror_mode": {
    "name": "ipython",
    "version": 3
   },
   "file_extension": ".py",
   "mimetype": "text/x-python",
   "name": "python",
   "nbconvert_exporter": "python",
   "pygments_lexer": "ipython3",
   "version": "3.8.7"
  }
 },
 "nbformat": 4,
 "nbformat_minor": 1
}
