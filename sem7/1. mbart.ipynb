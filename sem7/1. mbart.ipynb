{
 "cells": [
  {
   "cell_type": "code",
   "execution_count": 1,
   "id": "fbc2c617-8f5a-4f51-8a18-5ff943c17a79",
   "metadata": {},
   "outputs": [],
   "source": [
    "from datasets import load_dataset\n",
    "import pandas as pd\n",
    "import evaluate\n",
    "dataset = load_dataset(\"IlyaGusev/gazeta\")"
   ]
  },
  {
   "cell_type": "code",
   "execution_count": 2,
   "id": "c517d672-b169-4525-97df-9318b412d13e",
   "metadata": {},
   "outputs": [
    {
     "data": {
      "text/plain": [
       "DatasetDict({\n",
       "    train: Dataset({\n",
       "        features: ['text', 'summary', 'title', 'date', 'url'],\n",
       "        num_rows: 60964\n",
       "    })\n",
       "    test: Dataset({\n",
       "        features: ['text', 'summary', 'title', 'date', 'url'],\n",
       "        num_rows: 6793\n",
       "    })\n",
       "    validation: Dataset({\n",
       "        features: ['text', 'summary', 'title', 'date', 'url'],\n",
       "        num_rows: 6369\n",
       "    })\n",
       "})"
      ]
     },
     "execution_count": 2,
     "metadata": {},
     "output_type": "execute_result"
    }
   ],
   "source": [
    "dataset"
   ]
  },
  {
   "cell_type": "code",
   "execution_count": 3,
   "id": "0c04c7be-2110-4b48-b317-5bab633196f3",
   "metadata": {},
   "outputs": [
    {
     "data": {
      "text/html": [
       "<div>\n",
       "<style scoped>\n",
       "    .dataframe tbody tr th:only-of-type {\n",
       "        vertical-align: middle;\n",
       "    }\n",
       "\n",
       "    .dataframe tbody tr th {\n",
       "        vertical-align: top;\n",
       "    }\n",
       "\n",
       "    .dataframe thead th {\n",
       "        text-align: right;\n",
       "    }\n",
       "</style>\n",
       "<table border=\"1\" class=\"dataframe\">\n",
       "  <thead>\n",
       "    <tr style=\"text-align: right;\">\n",
       "      <th></th>\n",
       "      <th>text</th>\n",
       "      <th>summary</th>\n",
       "      <th>title</th>\n",
       "      <th>date</th>\n",
       "      <th>url</th>\n",
       "    </tr>\n",
       "  </thead>\n",
       "  <tbody>\n",
       "    <tr>\n",
       "      <th>0</th>\n",
       "      <td>На этих выходных в Берлине прошли крупные акци...</td>\n",
       "      <td>Протестующие против антикоронавирусных мер нем...</td>\n",
       "      <td>В Германии объяснили упоминание имени Путина н...</td>\n",
       "      <td>2020-09-01 00:22:59</td>\n",
       "      <td>https://www.gazeta.ru/politics/2020/08/31_a_13...</td>\n",
       "    </tr>\n",
       "    <tr>\n",
       "      <th>1</th>\n",
       "      <td>Высокопоставленная американская и израильская ...</td>\n",
       "      <td>Делегации Израиля и США прилетели в ОАЭ, где о...</td>\n",
       "      <td>Делегации Израиля и США прибыли в ОАЭ для обсу...</td>\n",
       "      <td>2020-09-01 08:08:16</td>\n",
       "      <td>https://www.gazeta.ru/politics/2020/08/31_a_13...</td>\n",
       "    </tr>\n",
       "    <tr>\n",
       "      <th>2</th>\n",
       "      <td>Одна из руководителей Координационного совета ...</td>\n",
       "      <td>Белорусская оппозиция в лице экс-кандидата в п...</td>\n",
       "      <td>Оппозиция Белоруссии объявила о создании новой...</td>\n",
       "      <td>2020-09-01 09:21:38</td>\n",
       "      <td>https://www.gazeta.ru/politics/2020/09/01_a_13...</td>\n",
       "    </tr>\n",
       "    <tr>\n",
       "      <th>3</th>\n",
       "      <td>Россия считает действия ВС США во время учений...</td>\n",
       "      <td>Действия американских ВС в Эстонии во время уч...</td>\n",
       "      <td>Россия считает крайне опасными действия США на...</td>\n",
       "      <td>2020-09-01 09:33:30</td>\n",
       "      <td>https://www.gazeta.ru/army/2020/09/01/13222904...</td>\n",
       "    </tr>\n",
       "    <tr>\n",
       "      <th>4</th>\n",
       "      <td>С 1 сентября в России вступают в силу поправки...</td>\n",
       "      <td>Поправки в российский закон «О банкротстве» вс...</td>\n",
       "      <td>В России вступил в силу закон о внесудебном ба...</td>\n",
       "      <td>2020-09-01 09:49:24</td>\n",
       "      <td>https://www.gazeta.ru/business/2020/09/01/1322...</td>\n",
       "    </tr>\n",
       "  </tbody>\n",
       "</table>\n",
       "</div>"
      ],
      "text/plain": [
       "                                                text  \\\n",
       "0  На этих выходных в Берлине прошли крупные акци...   \n",
       "1  Высокопоставленная американская и израильская ...   \n",
       "2  Одна из руководителей Координационного совета ...   \n",
       "3  Россия считает действия ВС США во время учений...   \n",
       "4  С 1 сентября в России вступают в силу поправки...   \n",
       "\n",
       "                                             summary  \\\n",
       "0  Протестующие против антикоронавирусных мер нем...   \n",
       "1  Делегации Израиля и США прилетели в ОАЭ, где о...   \n",
       "2  Белорусская оппозиция в лице экс-кандидата в п...   \n",
       "3  Действия американских ВС в Эстонии во время уч...   \n",
       "4  Поправки в российский закон «О банкротстве» вс...   \n",
       "\n",
       "                                               title                 date  \\\n",
       "0  В Германии объяснили упоминание имени Путина н...  2020-09-01 00:22:59   \n",
       "1  Делегации Израиля и США прибыли в ОАЭ для обсу...  2020-09-01 08:08:16   \n",
       "2  Оппозиция Белоруссии объявила о создании новой...  2020-09-01 09:21:38   \n",
       "3  Россия считает крайне опасными действия США на...  2020-09-01 09:33:30   \n",
       "4  В России вступил в силу закон о внесудебном ба...  2020-09-01 09:49:24   \n",
       "\n",
       "                                                 url  \n",
       "0  https://www.gazeta.ru/politics/2020/08/31_a_13...  \n",
       "1  https://www.gazeta.ru/politics/2020/08/31_a_13...  \n",
       "2  https://www.gazeta.ru/politics/2020/09/01_a_13...  \n",
       "3  https://www.gazeta.ru/army/2020/09/01/13222904...  \n",
       "4  https://www.gazeta.ru/business/2020/09/01/1322...  "
      ]
     },
     "execution_count": 3,
     "metadata": {},
     "output_type": "execute_result"
    }
   ],
   "source": [
    "df = pd.DataFrame(dataset['test'])\n",
    "df.head()"
   ]
  },
  {
   "cell_type": "code",
   "execution_count": 4,
   "id": "3c086bc2-a0fd-4bbc-8f7f-1ed31fad25f3",
   "metadata": {},
   "outputs": [],
   "source": [
    "bleu = evaluate.load(\"bleu\")"
   ]
  },
  {
   "cell_type": "code",
   "execution_count": 5,
   "id": "d93f02e2-7c50-4c84-ad62-6d90c88dda9b",
   "metadata": {},
   "outputs": [],
   "source": [
    "# ИЛИ\n",
    "# from datasets import load_metric\n",
    "# bleu = load_metric(\"sacrebleu\")"
   ]
  },
  {
   "cell_type": "code",
   "execution_count": 6,
   "id": "5df0d1d2-2370-4fbd-881f-5e6543bfbc43",
   "metadata": {},
   "outputs": [],
   "source": [
    "predictions = [\"Котик похож на булочку\"]\n",
    "references = [\"Котик похож на булку\"]"
   ]
  },
  {
   "cell_type": "code",
   "execution_count": 7,
   "id": "ef4c9221-7633-46f5-905c-37379878ccd0",
   "metadata": {},
   "outputs": [
    {
     "data": {
      "text/plain": [
       "{'bleu': 0.0,\n",
       " 'precisions': [0.75, 0.6666666666666666, 0.5, 0.0],\n",
       " 'brevity_penalty': 1.0,\n",
       " 'length_ratio': 1.0,\n",
       " 'translation_length': 4,\n",
       " 'reference_length': 4}"
      ]
     },
     "execution_count": 7,
     "metadata": {},
     "output_type": "execute_result"
    }
   ],
   "source": [
    "bleu.compute(predictions=predictions, references=references)"
   ]
  },
  {
   "cell_type": "markdown",
   "id": "311b55fa-2316-4d60-af49-3ff93e0fa919",
   "metadata": {},
   "source": [
    "BLEU: \"Чем ближе к человеческому переводу, тем лучше\" \\\n",
    "Недостатки: осознанность текста не учитывается."
   ]
  },
  {
   "cell_type": "code",
   "execution_count": 8,
   "id": "d10d7228-a05b-4024-9f52-fb51f8151073",
   "metadata": {},
   "outputs": [],
   "source": [
    "from transformers import MBartTokenizer, MBartForConditionalGeneration\n",
    "\n",
    "model_name = \"IlyaGusev/mbart_ru_sum_gazeta\"\n",
    "tokenizer = MBartTokenizer.from_pretrained(model_name)\n",
    "model = MBartForConditionalGeneration.from_pretrained(model_name)"
   ]
  },
  {
   "cell_type": "code",
   "execution_count": 9,
   "id": "ab51d808-1900-470e-85e7-c3b4a6842663",
   "metadata": {},
   "outputs": [
    {
     "data": {
      "text/plain": [
       "MBartForConditionalGeneration(\n",
       "  (model): MBartModel(\n",
       "    (shared): Embedding(250027, 1024, padding_idx=1)\n",
       "    (encoder): MBartEncoder(\n",
       "      (embed_tokens): Embedding(250027, 1024, padding_idx=1)\n",
       "      (embed_positions): MBartLearnedPositionalEmbedding(1026, 1024)\n",
       "      (layers): ModuleList(\n",
       "        (0-11): 12 x MBartEncoderLayer(\n",
       "          (self_attn): MBartAttention(\n",
       "            (k_proj): Linear(in_features=1024, out_features=1024, bias=True)\n",
       "            (v_proj): Linear(in_features=1024, out_features=1024, bias=True)\n",
       "            (q_proj): Linear(in_features=1024, out_features=1024, bias=True)\n",
       "            (out_proj): Linear(in_features=1024, out_features=1024, bias=True)\n",
       "          )\n",
       "          (self_attn_layer_norm): LayerNorm((1024,), eps=1e-05, elementwise_affine=True)\n",
       "          (activation_fn): GELUActivation()\n",
       "          (fc1): Linear(in_features=1024, out_features=4096, bias=True)\n",
       "          (fc2): Linear(in_features=4096, out_features=1024, bias=True)\n",
       "          (final_layer_norm): LayerNorm((1024,), eps=1e-05, elementwise_affine=True)\n",
       "        )\n",
       "      )\n",
       "      (layernorm_embedding): LayerNorm((1024,), eps=1e-05, elementwise_affine=True)\n",
       "      (layer_norm): LayerNorm((1024,), eps=1e-05, elementwise_affine=True)\n",
       "    )\n",
       "    (decoder): MBartDecoder(\n",
       "      (embed_tokens): Embedding(250027, 1024, padding_idx=1)\n",
       "      (embed_positions): MBartLearnedPositionalEmbedding(1026, 1024)\n",
       "      (layers): ModuleList(\n",
       "        (0-11): 12 x MBartDecoderLayer(\n",
       "          (self_attn): MBartAttention(\n",
       "            (k_proj): Linear(in_features=1024, out_features=1024, bias=True)\n",
       "            (v_proj): Linear(in_features=1024, out_features=1024, bias=True)\n",
       "            (q_proj): Linear(in_features=1024, out_features=1024, bias=True)\n",
       "            (out_proj): Linear(in_features=1024, out_features=1024, bias=True)\n",
       "          )\n",
       "          (activation_fn): GELUActivation()\n",
       "          (self_attn_layer_norm): LayerNorm((1024,), eps=1e-05, elementwise_affine=True)\n",
       "          (encoder_attn): MBartAttention(\n",
       "            (k_proj): Linear(in_features=1024, out_features=1024, bias=True)\n",
       "            (v_proj): Linear(in_features=1024, out_features=1024, bias=True)\n",
       "            (q_proj): Linear(in_features=1024, out_features=1024, bias=True)\n",
       "            (out_proj): Linear(in_features=1024, out_features=1024, bias=True)\n",
       "          )\n",
       "          (encoder_attn_layer_norm): LayerNorm((1024,), eps=1e-05, elementwise_affine=True)\n",
       "          (fc1): Linear(in_features=1024, out_features=4096, bias=True)\n",
       "          (fc2): Linear(in_features=4096, out_features=1024, bias=True)\n",
       "          (final_layer_norm): LayerNorm((1024,), eps=1e-05, elementwise_affine=True)\n",
       "        )\n",
       "      )\n",
       "      (layernorm_embedding): LayerNorm((1024,), eps=1e-05, elementwise_affine=True)\n",
       "      (layer_norm): LayerNorm((1024,), eps=1e-05, elementwise_affine=True)\n",
       "    )\n",
       "  )\n",
       "  (lm_head): Linear(in_features=1024, out_features=250027, bias=False)\n",
       ")"
      ]
     },
     "execution_count": 9,
     "metadata": {},
     "output_type": "execute_result"
    }
   ],
   "source": [
    "import torch\n",
    "device = torch.device('cuda:0')\n",
    "model.to(device)"
   ]
  },
  {
   "cell_type": "code",
   "execution_count": 10,
   "id": "be1d46fd-4016-46ea-bdbc-5a1e8b52e0fc",
   "metadata": {},
   "outputs": [
    {
     "data": {
      "text/plain": [
       "6793"
      ]
     },
     "execution_count": 10,
     "metadata": {},
     "output_type": "execute_result"
    }
   ],
   "source": [
    "len(dataset['test']['text'])"
   ]
  },
  {
   "cell_type": "code",
   "execution_count": 11,
   "id": "69ca80f0-b873-48f0-8dac-ffa627d84ba5",
   "metadata": {},
   "outputs": [
    {
     "name": "stderr",
     "output_type": "stream",
     "text": [
      "100%|██████████| 10/10 [00:18<00:00,  1.89s/it]\n"
     ]
    }
   ],
   "source": [
    "from tqdm import tqdm\n",
    "\n",
    "for text in tqdm(dataset['test']['text'][:10], total=len(dataset['test']['text'][:10])):\n",
    "\n",
    "    input_ids = tokenizer(\n",
    "        text,\n",
    "        max_length=600,\n",
    "        padding=\"max_length\",\n",
    "        truncation=True,\n",
    "        return_tensors=\"pt\",\n",
    "    )[\"input_ids\"]\n",
    "    input_ids = input_ids.to(device)\n",
    "    output_ids = model.generate(\n",
    "        input_ids=input_ids,\n",
    "        no_repeat_ngram_size=4\n",
    "    )[0]\n",
    "\n",
    "    summary = tokenizer.decode(output_ids, skip_special_tokens=True)\n",
    "    # задача -- для каждого текста посчитать bleu, и вывести среднюю метрику по датасету dataset['test']"
   ]
  },
  {
   "cell_type": "code",
   "execution_count": 12,
   "id": "acaea70f-ab57-446b-9c3a-22dafd1bd24e",
   "metadata": {},
   "outputs": [
    {
     "name": "stdout",
     "output_type": "stream",
     "text": [
      "Президент США Дональд Трамп назвал «марионеткой» своего соперника на предстоящих выборах демократа Джо Байдена. Если Байден придет к власти, то его быстро отберут радикальные левые силы, которые устроят в Америке революцию, заявил Трамп. Он также подчеркнул, что не желает новой гражданской войны в США — между «леваками» и его сторонниками. Накануне Байден обвинил Трампа в «покорности» перед российскими властями.\n"
     ]
    }
   ],
   "source": [
    "print(summary)"
   ]
  },
  {
   "cell_type": "code",
   "execution_count": 13,
   "id": "e3aeed96-b592-4a2f-9a28-25b2752d9438",
   "metadata": {},
   "outputs": [
    {
     "name": "stdout",
     "output_type": "stream",
     "text": [
      "Президент\n",
      "\n",
      "США\n",
      "\n",
      "Дональд\n",
      "\n",
      "Трамп\n",
      "\n",
      "назвал\n",
      "\n"
     ]
    }
   ],
   "source": [
    "for i in range(5):\n",
    "    print(tokenizer.decode(output_ids[i + 1]) + '\\n')"
   ]
  },
  {
   "cell_type": "code",
   "execution_count": 14,
   "id": "a7ffe39e-f5d5-41f7-8356-fcd463bbcdc4",
   "metadata": {},
   "outputs": [],
   "source": [
    "prediction = list([summary])\n",
    "reference = [text]"
   ]
  },
  {
   "cell_type": "code",
   "execution_count": 15,
   "id": "e7e7ed84-09b2-4094-97e2-30e291d04a68",
   "metadata": {},
   "outputs": [
    {
     "data": {
      "text/plain": [
       "['Президент США Дональд Трамп назвал «марионеткой» своего соперника на предстоящих выборах демократа Джо Байдена. Если Байден придет к власти, то его быстро отберут радикальные левые силы, которые устроят в Америке революцию, заявил Трамп. Он также подчеркнул, что не желает новой гражданской войны в США — между «леваками» и его сторонниками. Накануне Байден обвинил Трампа в «покорности» перед российскими властями.']"
      ]
     },
     "execution_count": 15,
     "metadata": {},
     "output_type": "execute_result"
    }
   ],
   "source": [
    "prediction"
   ]
  },
  {
   "cell_type": "code",
   "execution_count": 16,
   "id": "eaca2dc1-d85c-498f-b1bb-6d18e84a531d",
   "metadata": {},
   "outputs": [
    {
     "data": {
      "text/plain": [
       "['Президент США Дональд Трамп назвал «марионеткой» своего соперника на предстоящих выборах американского лидера, демократа Джо Байдена. Об этом сообщает телеканал Fox News. Если Байден придет к власти, то ее очень быстро отберут радикальные левые силы, которые устроят в Америке революцию, заявил Трамп. «Байден… он слабый человек и был таким всю свою жизнь. Его контролируют, как куклу... это революция. Он не должен баллотироваться в президенты», — отметил он. В ответ на вопрос телеведущей, кто же управляет «марионеткой Байденом», Трамп заявил, что она «этих людей не знает» и вдаваться в подробности не стал. Он также подчеркнул, что не желает новой гражданской войны в США — между «леваками» и его сторонниками. «Этого я не хочу, я оставляю это [столкновения с радикалами] нашим правоохранителям», — добавил Трамп. Накануне Джо Байден обвинил Трампа в «покорности» перед российскими властями. «Мы видели сообщения, что российские силы атаковали американских солдат в Сирии, поранили наших солдат. Вы слышали хотя бы слово от Трампа? Он хоть палец поднял? Никогда раньше ни один из президентов США не играл такой покорной роли в отношениях с российскими лидерами», — заявил кандидат от демократов. Кроме того, он обвинил Трампа в отказе от обсуждения с президентом РФ Владимиром Путиным сообщений СМИ о том, что спецслужбы России якобы предлагали вознаграждения за убийства американских солдат в Афганистане. Сам президент США эти сообщения назвал безосновательными и подчеркнул, что разведка США ему ничего подобного не докладывала. Предвыборная кампания в США проходят на фоне массовых протестов, охвативших города Америки после гибели задержанного полицией Миннеаполиса чернокожего Джорджа Флойда. Демонстрации под лозунгом Black Lives Matter («Жизни черных важны») направлены против полицейского насилия и расизма в отношении афроамериканцев. Мирный протест регулярно перетекает в столкновения с правоохранителями и сопровождается грабежами магазинов и погромами. Кроме того, протесты проходят под призывами «расправиться с белым превосходством». В городе Портленд (штат Вашингтон) протесты не прекращаются уже более двух месяцев. 30 августа Трамп призвал ввести туда части национальной гвардии США — после гибели человека в перестрелке между «трампистами» и активистами BLM. Трамп также поделился сообщениями, в которых утверждалось, что погибший в субботу мужчина — член «консервативной» группы Patriot Prayer и сторонник Трампа. Президент ретвитнул видео, на котором якобы члены движения «Антифа» празднуют смерть мужчины. «Позорные анархисты. Мы пристально следим за ними, но их по-глупому защищают радикальные демократы левого толка», — написал Трамп. Он также заявил, что единственный способ остановить беспорядки и насилие в американских городах, подконтрольных демократам — это применение силы. 28 июля Трамп обвинил американские СМИ в «необъективном» освещении охвативших США массовых беспорядков и протестов. «Лживые медиа пытаются изобразить протестующих в Портленде и Сиэтле чудесными, хорошими и невинными людьми, просто вышедшими на прогулку. Но на самом деле это — больные, безумные анархисты и агитаторы, впрочем, легко контролируемые нашими правоохранителями», — написал глава Белого дома. 20 июля президент США заявлял, что власти города Портленд утратили контроль над протестующими. «Мы пытаемся помочь Портленду, а не навредить ему. Его руководство на протяжении месяцев теряло контроль над анархистами и подстрекателями. Они упустили момент. Мы должны защищать федеральную собственность и наших людей. Это не просто протестующие, это серьезная проблема!» — подчеркнул американский лидер. В начале июня Трамп говорил, что центр Сиэтла захватили «мерзкие анархисты» и «внутренние террористы». Он добавил, что «левого радикала», губернатора штата Джея Инсли и мэра Сиэтла Дженни Даркан «разыграли и высмеяли» на «невиданном для страны уровне». Трамп потребовал «вернуть город» под власть законного руководства «сию же секунду» — в противном случае «он сам сделает это». При этом президент уже направлял национальную гвардию для подавления беспорядков.']"
      ]
     },
     "execution_count": 16,
     "metadata": {},
     "output_type": "execute_result"
    }
   ],
   "source": [
    "reference"
   ]
  },
  {
   "cell_type": "code",
   "execution_count": 17,
   "id": "b874367c-23ef-4540-9b93-fb9b109fabee",
   "metadata": {},
   "outputs": [
    {
     "data": {
      "text/plain": [
       "{'bleu': 0.00013714348069350797,\n",
       " 'precisions': [0.9850746268656716,\n",
       "  0.9393939393939394,\n",
       "  0.8615384615384616,\n",
       "  0.78125],\n",
       " 'brevity_penalty': 0.00015437599535098924,\n",
       " 'length_ratio': 0.10229007633587786,\n",
       " 'translation_length': 67,\n",
       " 'reference_length': 655}"
      ]
     },
     "execution_count": 17,
     "metadata": {},
     "output_type": "execute_result"
    }
   ],
   "source": [
    "bleu.compute(predictions=prediction, references=reference)"
   ]
  },
  {
   "cell_type": "code",
   "execution_count": null,
   "id": "2dec768b-d584-4b25-bf24-661a60cebc42",
   "metadata": {},
   "outputs": [],
   "source": []
  }
 ],
 "metadata": {
  "kernelspec": {
   "display_name": "Barboskiny",
   "language": "python",
   "name": "barboskiny"
  },
  "language_info": {
   "codemirror_mode": {
    "name": "ipython",
    "version": 3
   },
   "file_extension": ".py",
   "mimetype": "text/x-python",
   "name": "python",
   "nbconvert_exporter": "python",
   "pygments_lexer": "ipython3",
   "version": "3.8.18"
  }
 },
 "nbformat": 4,
 "nbformat_minor": 5
}
