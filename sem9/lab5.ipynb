{
 "cells": [
  {
   "cell_type": "markdown",
   "id": "4407f51e-ba81-444f-9588-2c1ab302b840",
   "metadata": {},
   "source": [
    "### *Вопросно ответная система типа \"retriever-reader\"*"
   ]
  },
  {
   "cell_type": "code",
   "execution_count": 1,
   "id": "4cd91fd6-0323-4e4d-a42d-d775bec4eafc",
   "metadata": {},
   "outputs": [],
   "source": [
    "import torch\n",
    "from transformers import AutoTokenizer, AutoModelForQuestionAnswering\n",
    "from transformers import BertTokenizer, BertModel\n",
    "from sklearn.metrics.pairwise import cosine_similarity\n",
    "\n",
    "import re\n",
    "import os\n",
    "# Сохранение кеша по дефолтному пути невозможно из-за нехватки места\n",
    "cache_dir = '/usr/src/app/!datasets/'\n",
    "os.environ[\"TRANSFORMERS_CACHE\"] = cache_dir"
   ]
  },
  {
   "cell_type": "code",
   "execution_count": 2,
   "id": "c017c9ca-b050-4a15-996d-b2671f3b0524",
   "metadata": {
    "scrolled": true
   },
   "outputs": [
    {
     "data": {
      "text/plain": [
       "device(type='cuda', index=0)"
      ]
     },
     "execution_count": 2,
     "metadata": {},
     "output_type": "execute_result"
    }
   ],
   "source": [
    "device = torch.device(\"cuda:0\" if torch.cuda.is_available() else \"cpu\")\n",
    "device"
   ]
  },
  {
   "cell_type": "code",
   "execution_count": 3,
   "id": "66092859-8980-4a58-87e7-40346e7726ea",
   "metadata": {},
   "outputs": [],
   "source": [
    "class QASystem:\n",
    "    def __init__(self, retriever='DeepPavlov/rubert-base-cased', reader='AlexKay/xlm-roberta-large-qa-multilingual-finedtuned-ru', cache_dir='~/.cache/huggingface/datasets'):\n",
    "        # Загрузка претренированных моделей и токенайзеров ретривера и ридера\n",
    "        self.tokenizer_retriever = BertTokenizer.from_pretrained(retriever, do_lower_case=True, cache_dir=cache_dir)\n",
    "        self.model_retriever = BertModel.from_pretrained(retriever, output_hidden_states = True, cache_dir=cache_dir)\n",
    "        self.model_retriever.to(device)\n",
    "        self.model_retriever.eval()\n",
    "\n",
    "        self.tokenizer_reader = AutoTokenizer.from_pretrained(reader, cache_dir=cache_dir)\n",
    "        self.model_reader = AutoModelForQuestionAnswering.from_pretrained(reader, cache_dir=cache_dir)\n",
    "        self.model_reader.to(device)\n",
    "        self.model_reader.eval()\n",
    "\n",
    "    # Сохранение текстов и преобразование в векторы\n",
    "    def load_text(self, texts):\n",
    "        self.texts = texts\n",
    "        self.texts_vectors = [self._text2vec(text).numpy() for text in texts]\n",
    "    \n",
    "    # Преобразовать текст в вектор с помощью токенайзера ретривера\n",
    "    def _text2vec(self, text):\n",
    "        inputs = self.tokenizer_retriever(text, return_tensors=\"pt\", truncation=True, max_length=512)\n",
    "        inputs = {name: tensor.to(device) for name, tensor in inputs.items()}\n",
    "        outputs = self.model_retriever(**inputs)\n",
    "        return outputs.last_hidden_state.mean(dim=1).detach().cpu()\n",
    "\n",
    "    def retriever(self, question):\n",
    "        # Преобразование вопроса в вектор\n",
    "        question_vector = self._text2vec(question).numpy()\n",
    "        # Измерение сходства по косинусной мере между векторами\n",
    "        similarities = [cosine_similarity(text_vector, question_vector) for text_vector in self.texts_vectors]\n",
    "        # Берем наиболее подходящий текст\n",
    "        max_similarity_index = similarities.index(max(similarities))\n",
    "        return self.texts[max_similarity_index], max_similarity_index\n",
    "\n",
    "    def reader(self, question, text):\n",
    "        # Преобразовать текст в вектор с помощью токенайзера ретривера\n",
    "        encoding = self.tokenizer_reader.encode_plus(text=question,text_pair=text)\n",
    "        inputs = encoding['input_ids']\n",
    "        tokens = self.tokenizer_reader.convert_ids_to_tokens(inputs)\n",
    "        inputs = torch.tensor([inputs]).to(device)\n",
    "        output = self.model_reader(input_ids=inputs)\n",
    "\n",
    "        start_scores = output[0][0]\n",
    "        end_scores = output[1][0]\n",
    "\n",
    "        # Поиск начала и конца ответа с наибольшим суммарным скором\n",
    "        max_score = float('-inf')\n",
    "        start_index = end_index = 0\n",
    "\n",
    "        for i in range(len(start_scores)):\n",
    "            for j in range(i, len(end_scores)):\n",
    "                score = start_scores[i] + end_scores[j]\n",
    "                if score > max_score:\n",
    "                    max_score = score\n",
    "                    start_index = i\n",
    "                    end_index = j\n",
    "                    \n",
    "        # Преобразование токенов ответа в строку\n",
    "        answer_tokens = tokens[start_index:end_index+1]\n",
    "        answer = self.tokenizer_reader.convert_tokens_to_string(answer_tokens)\n",
    "        return answer\n",
    "\n",
    "    def _preprocess_text(self, text):\n",
    "        # Удаляем все знаки препинания в конце строки\n",
    "        text = re.sub(r'[^\\w\\s]$', '', text)\n",
    "        # Добавляем точку в конец строки\n",
    "        text = text.strip() + '.'\n",
    "        # Преобразуем первую букву строки в заглавную\n",
    "        text = text[0].upper() + text[1:]\n",
    "        return text\n",
    "\n",
    "    def __call__(self, question):\n",
    "        retrieved_text, text_index = self.retriever(question)\n",
    "        answer = self.reader(retrieved_text, question)\n",
    "        answer = self._preprocess_text(answer)\n",
    "        return answer, text_index\n"
   ]
  },
  {
   "cell_type": "code",
   "execution_count": 4,
   "id": "e4da7e6a-770a-4459-86f7-3d12fbf87ddc",
   "metadata": {},
   "outputs": [
    {
     "data": {
      "text/plain": [
       "DatasetDict({\n",
       "    train: Dataset({\n",
       "        features: ['id', 'title', 'context', 'question', 'answers'],\n",
       "        num_rows: 45328\n",
       "    })\n",
       "    validation: Dataset({\n",
       "        features: ['id', 'title', 'context', 'question', 'answers'],\n",
       "        num_rows: 5036\n",
       "    })\n",
       "    test: Dataset({\n",
       "        features: ['id', 'title', 'context', 'question', 'answers'],\n",
       "        num_rows: 23936\n",
       "    })\n",
       "})"
      ]
     },
     "execution_count": 4,
     "metadata": {},
     "output_type": "execute_result"
    }
   ],
   "source": [
    "# Загрузка датасета sberquad\n",
    "from datasets import load_dataset\n",
    "dataset = load_dataset(\"sberquad\", cache_dir=cache_dir)\n",
    "dataset"
   ]
  },
  {
   "cell_type": "code",
   "execution_count": 5,
   "id": "9dec4d34-9401-4bba-a20d-3adc8a121503",
   "metadata": {},
   "outputs": [
    {
     "name": "stdout",
     "output_type": "stream",
     "text": [
      "4425\n"
     ]
    }
   ],
   "source": [
    "# Отбор уникальных текстов\n",
    "def get_unique_texts(texts):\n",
    "    return list(set(texts))\n",
    "\n",
    "texts = [item['context'] for item in dataset['test']]#[10:1050:50]\n",
    "texts = get_unique_texts(texts)\n",
    "print(len(texts))"
   ]
  },
  {
   "cell_type": "markdown",
   "id": "3c79a2dc-077c-44b2-b811-c466f0f5bd1a",
   "metadata": {},
   "source": [
    "### Демонстрация работы"
   ]
  },
  {
   "cell_type": "code",
   "execution_count": 6,
   "id": "512dc4c5-20f8-4794-88ce-f146f8d1e21b",
   "metadata": {},
   "outputs": [
    {
     "name": "stderr",
     "output_type": "stream",
     "text": [
      "Some weights of the model checkpoint at DeepPavlov/rubert-base-cased were not used when initializing BertModel: ['cls.predictions.bias', 'cls.predictions.transform.LayerNorm.weight', 'cls.predictions.transform.dense.weight', 'cls.predictions.decoder.bias', 'cls.predictions.transform.LayerNorm.bias', 'cls.seq_relationship.weight', 'cls.predictions.decoder.weight', 'cls.seq_relationship.bias', 'cls.predictions.transform.dense.bias']\n",
      "- This IS expected if you are initializing BertModel from the checkpoint of a model trained on another task or with another architecture (e.g. initializing a BertForSequenceClassification model from a BertForPreTraining model).\n",
      "- This IS NOT expected if you are initializing BertModel from the checkpoint of a model that you expect to be exactly identical (initializing a BertForSequenceClassification model from a BertForSequenceClassification model).\n"
     ]
    }
   ],
   "source": [
    "qa_system = QASystem(cache_dir=cache_dir)\n",
    "# Загрузка текстов для предварительной обработки \n",
    "qa_system.load_text(texts)"
   ]
  },
  {
   "cell_type": "code",
   "execution_count": 7,
   "id": "0dd747c4-df2e-408d-918f-4f8ff4b86a50",
   "metadata": {},
   "outputs": [
    {
     "name": "stdout",
     "output_type": "stream",
     "text": [
      "0) Какой переход характерен дифтонгам?\n",
      "Ответ: От одного гласного звукотипа к другому. [текст №4155]\n",
      "1) Что такое гармонические колебания?\n",
      "Ответ: Орбитальные элементы. [текст №145]\n",
      "2) Как гасятся кредитные линии по кредитным картам?\n",
      "Ответ: Надлежащим оформлением дел по межбанковским кредитам. Предоставление межбанковских кредитов должно сопровождаться открытием счетов. [текст №3948]\n",
      "3) Какие породы собак официально признаны опасными для человека?\n",
      "Ответ: Питбультерьеров, тоса-ину или японских мастифов, аргентинских догов и фила бразильеро. [текст №1081]\n",
      "4) Что произошло в эпизоде Приключение суссекского вампира истории о Шерлоке Холмсе?\n",
      "Ответ: Артур Конан Дойль упомянул, что доктор Ватсон в прошлом выступал за регбийную команду Блекхит. [текст №3656]\n",
      "5) Какой банк входит в группу наиболее ликвидных банков РФ?\n",
      "Ответ: ЧЕЛИНДБАНК. [текст №267]\n",
      "6) Какие фильмы для RKO Pictures выпустил Вэл Льютон?\n",
      "Ответ: Люди-кошки (1942), Я гуляла с зомби (1943), и Похитители тел (1945). [текст №3904]\n",
      "7) Чем отличается многоклеточность и колониальность?\n",
      "Ответ: Единство или близость экономического и политического строя. [текст №2018]\n",
      "8) С какого места исполняется свободный бросок?\n",
      "Ответ: Где произошло нарушение правил. [текст №3381]\n"
     ]
    }
   ],
   "source": [
    "questions = [\n",
    "    \"Какой переход характерен дифтонгам?\",\n",
    "    \"Что такое гармонические колебания?\",\n",
    "    \"Как гасятся кредитные линии по кредитным картам?\",\n",
    "    \"Какие породы собак официально признаны опасными для человека?\",\n",
    "    \"Что произошло в эпизоде Приключение суссекского вампира истории о Шерлоке Холмсе?\",\n",
    "    \"Какой банк входит в группу наиболее ликвидных банков РФ?\",\n",
    "    \"Какие фильмы для RKO Pictures выпустил Вэл Льютон?\",\n",
    "    \"Чем отличается многоклеточность и колониальность?\",\n",
    "    \"С какого места исполняется свободный бросок?\"\n",
    "            ]\n",
    "\n",
    "idxs = [] # индексы текстов, из которых брался ответ\n",
    "for i, question in enumerate(questions):\n",
    "    answer, idx = qa_system(question)\n",
    "    idxs.append(idx)\n",
    "    print(f\"{i}) {question}\\nОтвет: {answer} [текст №{idx}]\")\n"
   ]
  },
  {
   "cell_type": "markdown",
   "id": "b9bd7f8c-4cd0-4561-9ffa-b09b406324a7",
   "metadata": {},
   "source": [
    "#### Правильные ответы:\n",
    "1\\. Колебания, при которых физическая величина изменяется с течением времени по гармоническому (синусоидальному, косинусоидальному) закону. \\\n",
    "5\\. ПТБ. \\\n",
    "7\\. У колониальных организмов отсутствуют настоящие дифференцированные клетки, а следовательно, и разделение тела на ткани."
   ]
  },
  {
   "cell_type": "code",
   "execution_count": 8,
   "id": "f96468a8-1b5b-4b96-9784-866b87865296",
   "metadata": {
    "scrolled": true
   },
   "outputs": [
    {
     "name": "stdout",
     "output_type": "stream",
     "text": [
      "4155) До сих пор речь шла лишь о монофтонгах, то есть таких гласных, акустическая картина которых не меняется на всем протяжении их артикуляции. Под дифтонгами понимаются звуки, артикуляция которых подразумевает переход от одного гласного звукотипа к другому; трифтонги включают, соответственно, три звукотипа. Обычно в составе дифтонгов один из компонентов является слоговым, а прочие — нет. Если слоговым является первый компонент, то такой дифтонг называется нисходящим, если второй — восходящим. В роли неслоговых компонентов чаще всего выступают неслоговые соответствия закрытым гласным, то есть [w] и [j], например в английском [kaɪt] воздушный змей , loʊ низкий ; однако встречаются и другие варианты, например в древнеанглийском языке были нисходящие дифтонги [æa] и [æo]. Очень редко встречаются равновесные дифтонги, например, в нивхском языке.\n",
      "145) Определение орбит небесных тел является одной из задач небесной механики. Для задания орбиты спутника планеты, астероида или Земли используют так называемые орбитальные элементы . Орбитальные элементы отвечают за задание базовой системы координат (точки отсчёта, о́си координат), формы и размера орбиты, её ориентации в пространстве и момент времени, в который небесное тело находится в определённой точке орбиты. В основном используются два способа задания орбиты (при наличии системы координат)[1]:\n",
      "3948) Предоставление и получение кредитов коммерческими банками на межбанковском рынке регламентируется Законом О банках и банковской деятельности , Гражданским кодексом, уставами коммерческих банков и кредитными договорами. Кредитные отношения между коммерческими банками определяются на договорной основе путём заключения кредитных договоров, которые должны предусматривать права и обязательства сторон, с надлежащим оформлением дел по межбанковским кредитам. Предоставление межбанковских кредитов должно сопровождаться открытием счетов в соответствии с Планом счетов бухгалтерского учёта коммерческих банков.\n",
      "1081) Некоторые породы собак в отдельных странах официально признаны опасными для человека. Так, в Великобритании, после участившихся случаев нападения на людей, был запрещён ввоз, а также разведение и продажа четырёх типов собак: питбультерьеров, тоса-ину или японских мастифов, аргентинских догов и фила бразильеро. По акту Об опасных собаках (Dangerous Dogs Act 1991) нелегальное владение такими собаками влечёт штраф до 5000 фунтов стерлингов или лишение свободы на шесть месяцев. Признанная запрещённой собака усыпляется.\n",
      "3656) Действие повести Томаса Хьюза Школьные годы Тома Брауна , изданной в 1857 году, происходит в школе города Регби, произведение содержит описание регбийного матча. В 1940-х годах по мотивам повести был снят одноимённый фильм. В нескольких работах Джеймса Джойса, в том числе в романах Улисс и Поминки по Финнегану , упоминается ирландская регбийная команда Бектив Рейнджерс . В автобиографической работе автора Портрет художника в юности сообщается об игроке сборной Ирландии Джеймсе Мэйджи. В эпизоде Приключение суссекского вампира истории о Шерлоке Холмсе Артур Конан Дойль упомянул, что доктор Ватсон в прошлом выступал за регбийную команду Блекхит .\n",
      "267) Среди региональных банков Челябинской области ЧЕЛИНДБАНК занимает первые позиции по кредитным вложениям всего, по кредитам, предоставленным нефинансовым предприятиям, физическим лицам, индивидуальным предпринимателям, по вкладам и прочим привлеченным средствам физических лиц. По состоянию на 01.04.2016 Банк занимает: 63-е место по объему потребительских кредитов (BANKIR.RU); 68-ое место по прибыли после налогообложения ( Интерфакс 100. Банки России ); 71-е место по объему средств физических лиц ( Интерфакс 100. Банки России ); 90-е место по собственному капиталу ( Интерфакс 100. Банки России )\n",
      "3904) В 1940-х годах на фоне ужасов Второй мировой войны жанр становится по-большей части ориентированными на внушение ужаса, а не на его изображение. В это время Вэл Льютон выпустил несколько малобюджетных фильмов для RKO Pictures, которые получились очень атмосферными: Люди-кошки (1942), Я гуляла с зомби (1943), и Похитители тел (1945), а Марк Робсон выпускает фильм Седьмая жертва (1943). Работавший помощником у Льютона режиссёр Роберт Уайз в интервью программе 100 лет ужаса давал высокую оценку этим картинам, отметив, что Льютон компенсировал сковывающие инициативу требования продюсеров и цензуры умелым преподношением материала в эстетике экспрессионизма.\n",
      "2018) Впрочем, попытки введения критериев для выделения цивилизаций предпринимались неоднократно. Российский историк Э. Д. Фролов в одной из своих работ перечислил их наиболее распространённый набор: общность геополитических условий, исконное языковое родство, единство или близость экономического и политического строя, культуры (включая религию) и менталитета. Вслед за Шпенглером и Тойнби учёный признавал, что оригинальное качество цивилизации обусловлено оригинальным свойством каждого из структурообразующих элементов и их неповторимым единством [18].\n",
      "3381) Свободный бросок назначается при нарушениях правил, а также как способ возобновления игры после её остановки, даже если нарушения не было (например, после тайм-аута). Свободный бросок исполняет команда, против которой были нарушены правила или которая владела мячом перед остановкой игры. При назначении свободного броска против команды, владеющей мячом, её игрок обязан немедленно отпустить мяч или положить его на пол. Свободный бросок исполняется с места, где произошло нарушение правил или где находился мяч в момент остановки игры. Если бросок должен быть исполнен из пределов площади ворот команды, исполняющей бросок, или из зоны, ограниченной линией свободных бросков соперников, то он исполняется с ближайшей точки за пределами этих зон.\n"
     ]
    }
   ],
   "source": [
    "# Тексты, в которых был найден ответ\n",
    "for i in idxs:\n",
    "    print(f\"{i}) {texts[i]}\")"
   ]
  },
  {
   "cell_type": "code",
   "execution_count": null,
   "id": "a0efb05e-dd64-4abf-873b-e4c1bd0cb56c",
   "metadata": {},
   "outputs": [],
   "source": []
  }
 ],
 "metadata": {
  "kernelspec": {
   "display_name": "Barboskiny",
   "language": "python",
   "name": "barboskiny"
  },
  "language_info": {
   "codemirror_mode": {
    "name": "ipython",
    "version": 3
   },
   "file_extension": ".py",
   "mimetype": "text/x-python",
   "name": "python",
   "nbconvert_exporter": "python",
   "pygments_lexer": "ipython3",
   "version": "3.8.18"
  }
 },
 "nbformat": 4,
 "nbformat_minor": 5
}
