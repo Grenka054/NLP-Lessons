{
 "cells": [
  {
   "cell_type": "code",
   "execution_count": 1,
   "metadata": {},
   "outputs": [
    {
     "name": "stdout",
     "output_type": "stream",
     "text": [
      "Requirement already satisfied: spacy==3.6.1 in d:\\develop\\python310\\lib\\site-packages (3.6.1)\n",
      "Requirement already satisfied: spacy-legacy<3.1.0,>=3.0.11 in d:\\develop\\python310\\lib\\site-packages (from spacy==3.6.1) (3.0.12)\n",
      "Requirement already satisfied: spacy-loggers<2.0.0,>=1.0.0 in d:\\develop\\python310\\lib\\site-packages (from spacy==3.6.1) (1.0.5)\n",
      "Requirement already satisfied: murmurhash<1.1.0,>=0.28.0 in d:\\develop\\python310\\lib\\site-packages (from spacy==3.6.1) (1.0.10)\n",
      "Requirement already satisfied: cymem<2.1.0,>=2.0.2 in d:\\develop\\python310\\lib\\site-packages (from spacy==3.6.1) (2.0.8)\n",
      "Requirement already satisfied: preshed<3.1.0,>=3.0.2 in d:\\develop\\python310\\lib\\site-packages (from spacy==3.6.1) (3.0.9)\n",
      "Requirement already satisfied: thinc<8.2.0,>=8.1.8 in d:\\develop\\python310\\lib\\site-packages (from spacy==3.6.1) (8.1.12)\n",
      "Requirement already satisfied: wasabi<1.2.0,>=0.9.1 in d:\\develop\\python310\\lib\\site-packages (from spacy==3.6.1) (1.1.2)\n",
      "Requirement already satisfied: srsly<3.0.0,>=2.4.3 in d:\\develop\\python310\\lib\\site-packages (from spacy==3.6.1) (2.4.8)\n",
      "Requirement already satisfied: catalogue<2.1.0,>=2.0.6 in d:\\develop\\python310\\lib\\site-packages (from spacy==3.6.1) (2.0.10)\n",
      "Requirement already satisfied: typer<0.10.0,>=0.3.0 in d:\\develop\\python310\\lib\\site-packages (from spacy==3.6.1) (0.9.0)\n",
      "Requirement already satisfied: pathy>=0.10.0 in d:\\develop\\python310\\lib\\site-packages (from spacy==3.6.1) (0.10.2)\n",
      "Requirement already satisfied: smart-open<7.0.0,>=5.2.1 in d:\\develop\\python310\\lib\\site-packages (from spacy==3.6.1) (6.3.0)\n",
      "Requirement already satisfied: tqdm<5.0.0,>=4.38.0 in d:\\develop\\python310\\lib\\site-packages (from spacy==3.6.1) (4.65.0)\n",
      "Requirement already satisfied: numpy>=1.15.0 in d:\\develop\\python310\\lib\\site-packages (from spacy==3.6.1) (1.25.0)\n",
      "Requirement already satisfied: requests<3.0.0,>=2.13.0 in d:\\develop\\python310\\lib\\site-packages (from spacy==3.6.1) (2.28.2)\n",
      "Requirement already satisfied: pydantic!=1.8,!=1.8.1,<3.0.0,>=1.7.4 in d:\\develop\\python310\\lib\\site-packages (from spacy==3.6.1) (2.4.2)\n",
      "Requirement already satisfied: jinja2 in d:\\develop\\python310\\lib\\site-packages (from spacy==3.6.1) (3.1.2)\n",
      "Requirement already satisfied: setuptools in d:\\develop\\python310\\lib\\site-packages (from spacy==3.6.1) (65.5.0)\n",
      "Requirement already satisfied: packaging>=20.0 in d:\\develop\\python310\\lib\\site-packages (from spacy==3.6.1) (23.0)\n",
      "Requirement already satisfied: langcodes<4.0.0,>=3.2.0 in d:\\develop\\python310\\lib\\site-packages (from spacy==3.6.1) (3.3.0)\n",
      "Requirement already satisfied: annotated-types>=0.4.0 in d:\\develop\\python310\\lib\\site-packages (from pydantic!=1.8,!=1.8.1,<3.0.0,>=1.7.4->spacy==3.6.1) (0.5.0)\n",
      "Requirement already satisfied: pydantic-core==2.10.1 in d:\\develop\\python310\\lib\\site-packages (from pydantic!=1.8,!=1.8.1,<3.0.0,>=1.7.4->spacy==3.6.1) (2.10.1)\n",
      "Requirement already satisfied: typing-extensions>=4.6.1 in d:\\develop\\python310\\lib\\site-packages (from pydantic!=1.8,!=1.8.1,<3.0.0,>=1.7.4->spacy==3.6.1) (4.8.0)\n",
      "Requirement already satisfied: charset-normalizer<4,>=2 in d:\\develop\\python310\\lib\\site-packages (from requests<3.0.0,>=2.13.0->spacy==3.6.1) (3.1.0)\n",
      "Requirement already satisfied: idna<4,>=2.5 in d:\\develop\\python310\\lib\\site-packages (from requests<3.0.0,>=2.13.0->spacy==3.6.1) (3.4)\n",
      "Requirement already satisfied: urllib3<1.27,>=1.21.1 in d:\\develop\\python310\\lib\\site-packages (from requests<3.0.0,>=2.13.0->spacy==3.6.1) (1.26.14)\n",
      "Requirement already satisfied: certifi>=2017.4.17 in d:\\develop\\python310\\lib\\site-packages (from requests<3.0.0,>=2.13.0->spacy==3.6.1) (2022.12.7)\n",
      "Requirement already satisfied: blis<0.8.0,>=0.7.8 in d:\\develop\\python310\\lib\\site-packages (from thinc<8.2.0,>=8.1.8->spacy==3.6.1) (0.7.11)\n",
      "Requirement already satisfied: confection<1.0.0,>=0.0.1 in d:\\develop\\python310\\lib\\site-packages (from thinc<8.2.0,>=8.1.8->spacy==3.6.1) (0.1.3)\n",
      "Requirement already satisfied: colorama in d:\\develop\\python310\\lib\\site-packages (from tqdm<5.0.0,>=4.38.0->spacy==3.6.1) (0.4.6)\n",
      "Requirement already satisfied: click<9.0.0,>=7.1.1 in d:\\develop\\python310\\lib\\site-packages (from typer<0.10.0,>=0.3.0->spacy==3.6.1) (8.1.3)\n",
      "Requirement already satisfied: MarkupSafe>=2.0 in d:\\develop\\python310\\lib\\site-packages (from jinja2->spacy==3.6.1) (2.1.2)\n",
      "Note: you may need to restart the kernel to use updated packages.\n",
      "Requirement already satisfied: ml-datasets in d:\\develop\\python310\\lib\\site-packages (0.2.0)\n",
      "Requirement already satisfied: numpy>=1.7.0 in d:\\develop\\python310\\lib\\site-packages (from ml-datasets) (1.25.0)\n",
      "Requirement already satisfied: tqdm<5.0.0,>=4.10.0 in d:\\develop\\python310\\lib\\site-packages (from ml-datasets) (4.65.0)\n",
      "Requirement already satisfied: srsly<3.0.0,>=1.0.1 in d:\\develop\\python310\\lib\\site-packages (from ml-datasets) (2.4.8)\n",
      "Requirement already satisfied: catalogue<3.0.0,>=0.2.0 in d:\\develop\\python310\\lib\\site-packages (from ml-datasets) (2.0.10)\n",
      "Requirement already satisfied: colorama in d:\\develop\\python310\\lib\\site-packages (from tqdm<5.0.0,>=4.10.0->ml-datasets) (0.4.6)\n",
      "Note: you may need to restart the kernel to use updated packages.\n",
      "Collecting en-core-web-md==3.6.0\n",
      "  Downloading https://github.com/explosion/spacy-models/releases/download/en_core_web_md-3.6.0/en_core_web_md-3.6.0-py3-none-any.whl (42.8 MB)\n",
      "     ---------------------------------------- 0.0/42.8 MB ? eta -:--:--\n",
      "     --------------------------------------- 0.0/42.8 MB 660.6 kB/s eta 0:01:05\n",
      "     --------------------------------------- 0.1/42.8 MB 656.4 kB/s eta 0:01:06\n",
      "     --------------------------------------- 0.1/42.8 MB 939.4 kB/s eta 0:00:46\n",
      "     ---------------------------------------- 0.2/42.8 MB 1.3 MB/s eta 0:00:34\n",
      "     ---------------------------------------- 0.3/42.8 MB 1.2 MB/s eta 0:00:35\n",
      "     ---------------------------------------- 0.4/42.8 MB 1.5 MB/s eta 0:00:29\n",
      "     ---------------------------------------- 0.5/42.8 MB 1.6 MB/s eta 0:00:27\n",
      "      --------------------------------------- 0.7/42.8 MB 1.8 MB/s eta 0:00:24\n",
      "     - -------------------------------------- 1.1/42.8 MB 2.8 MB/s eta 0:00:15\n",
      "     - -------------------------------------- 1.1/42.8 MB 2.8 MB/s eta 0:00:15\n",
      "     - -------------------------------------- 1.1/42.8 MB 2.8 MB/s eta 0:00:15\n",
      "     - -------------------------------------- 1.1/42.8 MB 2.8 MB/s eta 0:00:15\n",
      "     - -------------------------------------- 1.9/42.8 MB 3.3 MB/s eta 0:00:13\n",
      "     -- ------------------------------------- 2.5/42.8 MB 4.0 MB/s eta 0:00:11\n",
      "     -- ------------------------------------- 2.8/42.8 MB 4.1 MB/s eta 0:00:10\n",
      "     -- ------------------------------------- 3.0/42.8 MB 4.2 MB/s eta 0:00:10\n",
      "     -- ------------------------------------- 3.0/42.8 MB 4.2 MB/s eta 0:00:10\n",
      "     --- ------------------------------------ 3.2/42.8 MB 4.0 MB/s eta 0:00:10\n",
      "     --- ------------------------------------ 3.5/42.8 MB 4.0 MB/s eta 0:00:10\n",
      "     --- ------------------------------------ 3.6/42.8 MB 4.1 MB/s eta 0:00:10\n",
      "     --- ------------------------------------ 3.8/42.8 MB 4.0 MB/s eta 0:00:10\n",
      "     --- ------------------------------------ 3.9/42.8 MB 3.8 MB/s eta 0:00:11\n",
      "     ---- ----------------------------------- 4.3/42.8 MB 4.0 MB/s eta 0:00:10\n",
      "     ---- ----------------------------------- 4.6/42.8 MB 4.1 MB/s eta 0:00:10\n",
      "     ---- ----------------------------------- 5.0/42.8 MB 4.3 MB/s eta 0:00:09\n",
      "     ---- ----------------------------------- 5.3/42.8 MB 4.4 MB/s eta 0:00:09\n",
      "     ----- ---------------------------------- 5.7/42.8 MB 4.5 MB/s eta 0:00:09\n",
      "     ----- ---------------------------------- 6.1/42.8 MB 4.7 MB/s eta 0:00:08\n",
      "     ----- ---------------------------------- 6.4/42.8 MB 4.8 MB/s eta 0:00:08\n",
      "     ------ --------------------------------- 6.6/42.8 MB 4.9 MB/s eta 0:00:08\n",
      "     ------ --------------------------------- 6.6/42.8 MB 4.9 MB/s eta 0:00:08\n",
      "     ------ --------------------------------- 6.9/42.8 MB 4.7 MB/s eta 0:00:08\n",
      "     ------- -------------------------------- 7.5/42.8 MB 5.0 MB/s eta 0:00:08\n",
      "     ------- -------------------------------- 7.8/42.8 MB 5.0 MB/s eta 0:00:08\n",
      "     ------- -------------------------------- 8.0/42.8 MB 5.0 MB/s eta 0:00:07\n",
      "     ------- -------------------------------- 8.3/42.8 MB 5.0 MB/s eta 0:00:07\n",
      "     ------- -------------------------------- 8.6/42.8 MB 5.0 MB/s eta 0:00:07\n",
      "     -------- ------------------------------- 8.8/42.8 MB 5.0 MB/s eta 0:00:07\n",
      "     -------- ------------------------------- 9.1/42.8 MB 5.1 MB/s eta 0:00:07\n",
      "     -------- ------------------------------- 9.3/42.8 MB 5.1 MB/s eta 0:00:07\n",
      "     --------- ------------------------------ 9.6/42.8 MB 5.1 MB/s eta 0:00:07\n",
      "     --------- ------------------------------ 9.9/42.8 MB 5.1 MB/s eta 0:00:07\n",
      "     --------- ------------------------------ 10.1/42.8 MB 5.1 MB/s eta 0:00:07\n",
      "     --------- ------------------------------ 10.4/42.8 MB 5.5 MB/s eta 0:00:06\n",
      "     ---------- ----------------------------- 10.7/42.8 MB 5.8 MB/s eta 0:00:06\n",
      "     ---------- ----------------------------- 11.0/42.8 MB 5.8 MB/s eta 0:00:06\n",
      "     ---------- ----------------------------- 11.3/42.8 MB 5.8 MB/s eta 0:00:06\n",
      "     ---------- ----------------------------- 11.5/42.8 MB 6.2 MB/s eta 0:00:06\n",
      "     ----------- ---------------------------- 11.8/42.8 MB 6.0 MB/s eta 0:00:06\n",
      "     ----------- ---------------------------- 12.1/42.8 MB 5.8 MB/s eta 0:00:06\n",
      "     ----------- ---------------------------- 12.3/42.8 MB 6.0 MB/s eta 0:00:06\n",
      "     ----------- ---------------------------- 12.7/42.8 MB 5.8 MB/s eta 0:00:06\n",
      "     ------------ --------------------------- 12.9/42.8 MB 5.7 MB/s eta 0:00:06\n",
      "     ------------ --------------------------- 13.2/42.8 MB 5.7 MB/s eta 0:00:06\n",
      "     ------------ --------------------------- 13.5/42.8 MB 6.1 MB/s eta 0:00:05\n",
      "     ------------ --------------------------- 13.8/42.8 MB 6.0 MB/s eta 0:00:05\n",
      "     ------------- -------------------------- 14.0/42.8 MB 6.1 MB/s eta 0:00:05\n",
      "     ------------- -------------------------- 14.4/42.8 MB 6.2 MB/s eta 0:00:05\n",
      "     ------------- -------------------------- 14.6/42.8 MB 6.2 MB/s eta 0:00:05\n",
      "     ------------- -------------------------- 14.9/42.8 MB 6.2 MB/s eta 0:00:05\n",
      "     -------------- ------------------------- 15.2/42.8 MB 6.2 MB/s eta 0:00:05\n",
      "     -------------- ------------------------- 15.5/42.8 MB 6.1 MB/s eta 0:00:05\n",
      "     -------------- ------------------------- 15.8/42.8 MB 6.1 MB/s eta 0:00:05\n",
      "     --------------- ------------------------ 16.1/42.8 MB 6.1 MB/s eta 0:00:05\n",
      "     --------------- ------------------------ 16.3/42.8 MB 6.0 MB/s eta 0:00:05\n",
      "     --------------- ------------------------ 16.7/42.8 MB 6.0 MB/s eta 0:00:05\n",
      "     --------------- ------------------------ 17.0/42.8 MB 6.2 MB/s eta 0:00:05\n",
      "     ---------------- ----------------------- 17.2/42.8 MB 6.2 MB/s eta 0:00:05\n",
      "     ---------------- ----------------------- 17.6/42.8 MB 6.1 MB/s eta 0:00:05\n",
      "     ---------------- ----------------------- 17.9/42.8 MB 6.1 MB/s eta 0:00:05\n",
      "     ---------------- ----------------------- 18.1/42.8 MB 6.1 MB/s eta 0:00:05\n",
      "     ----------------- ---------------------- 18.4/42.8 MB 6.1 MB/s eta 0:00:05\n",
      "     ----------------- ---------------------- 18.7/42.8 MB 6.1 MB/s eta 0:00:04\n",
      "     ----------------- ---------------------- 19.0/42.8 MB 6.1 MB/s eta 0:00:04\n",
      "     ------------------ --------------------- 19.3/42.8 MB 6.1 MB/s eta 0:00:04\n",
      "     ------------------ --------------------- 19.6/42.8 MB 6.2 MB/s eta 0:00:04\n",
      "     ------------------ --------------------- 19.9/42.8 MB 6.2 MB/s eta 0:00:04\n",
      "     ------------------ --------------------- 20.2/42.8 MB 6.1 MB/s eta 0:00:04\n",
      "     ------------------- -------------------- 20.4/42.8 MB 6.2 MB/s eta 0:00:04\n",
      "     ------------------- -------------------- 20.8/42.8 MB 6.2 MB/s eta 0:00:04\n",
      "     ------------------- -------------------- 21.1/42.8 MB 6.2 MB/s eta 0:00:04\n",
      "     ------------------- -------------------- 21.3/42.8 MB 6.2 MB/s eta 0:00:04\n",
      "     ------------------- -------------------- 21.3/42.8 MB 6.2 MB/s eta 0:00:04\n",
      "     -------------------- ------------------- 21.6/42.8 MB 6.2 MB/s eta 0:00:04\n",
      "     -------------------- ------------------- 22.1/42.8 MB 6.2 MB/s eta 0:00:04\n",
      "     -------------------- ------------------- 22.3/42.8 MB 6.1 MB/s eta 0:00:04\n",
      "     --------------------- ------------------ 22.5/42.8 MB 6.1 MB/s eta 0:00:04\n",
      "     --------------------- ------------------ 22.7/42.8 MB 6.0 MB/s eta 0:00:04\n",
      "     --------------------- ------------------ 23.0/42.8 MB 6.0 MB/s eta 0:00:04\n",
      "     --------------------- ------------------ 23.2/42.8 MB 6.0 MB/s eta 0:00:04\n",
      "     --------------------- ------------------ 23.4/42.8 MB 6.0 MB/s eta 0:00:04\n",
      "     ---------------------- ----------------- 23.6/42.8 MB 5.9 MB/s eta 0:00:04\n",
      "     ---------------------- ----------------- 23.8/42.8 MB 5.8 MB/s eta 0:00:04\n",
      "     ---------------------- ----------------- 24.1/42.8 MB 5.8 MB/s eta 0:00:04\n",
      "     ---------------------- ----------------- 24.2/42.8 MB 5.7 MB/s eta 0:00:04\n",
      "     ---------------------- ----------------- 24.5/42.8 MB 5.7 MB/s eta 0:00:04\n",
      "     ----------------------- ---------------- 24.7/42.8 MB 5.7 MB/s eta 0:00:04\n",
      "     ----------------------- ---------------- 24.9/42.8 MB 5.6 MB/s eta 0:00:04\n",
      "     ----------------------- ---------------- 25.2/42.8 MB 5.6 MB/s eta 0:00:04\n",
      "     ----------------------- ---------------- 25.4/42.8 MB 5.6 MB/s eta 0:00:04\n",
      "     ----------------------- ---------------- 25.6/42.8 MB 5.6 MB/s eta 0:00:04\n",
      "     ------------------------ --------------- 25.8/42.8 MB 5.6 MB/s eta 0:00:04\n",
      "     ------------------------ --------------- 26.1/42.8 MB 5.5 MB/s eta 0:00:04\n",
      "     ------------------------ --------------- 26.2/42.8 MB 5.5 MB/s eta 0:00:04\n",
      "     ------------------------ --------------- 26.5/42.8 MB 5.5 MB/s eta 0:00:03\n",
      "     ------------------------ --------------- 26.7/42.8 MB 5.5 MB/s eta 0:00:03\n",
      "     ------------------------- -------------- 26.9/42.8 MB 5.4 MB/s eta 0:00:03\n",
      "     ------------------------- -------------- 27.2/42.8 MB 5.4 MB/s eta 0:00:03\n",
      "     ------------------------- -------------- 27.4/42.8 MB 5.4 MB/s eta 0:00:03\n",
      "     ------------------------- -------------- 27.6/42.8 MB 5.3 MB/s eta 0:00:03\n",
      "     -------------------------- ------------- 27.9/42.8 MB 5.3 MB/s eta 0:00:03\n",
      "     -------------------------- ------------- 28.1/42.8 MB 5.2 MB/s eta 0:00:03\n",
      "     -------------------------- ------------- 28.4/42.8 MB 5.2 MB/s eta 0:00:03\n",
      "     -------------------------- ------------- 28.5/42.8 MB 5.2 MB/s eta 0:00:03\n",
      "     -------------------------- ------------- 28.8/42.8 MB 5.2 MB/s eta 0:00:03\n",
      "     --------------------------- ------------ 29.0/42.8 MB 5.2 MB/s eta 0:00:03\n",
      "     --------------------------- ------------ 29.3/42.8 MB 5.1 MB/s eta 0:00:03\n",
      "     --------------------------- ------------ 29.5/42.8 MB 5.1 MB/s eta 0:00:03\n",
      "     --------------------------- ------------ 29.8/42.8 MB 5.1 MB/s eta 0:00:03\n",
      "     ---------------------------- ----------- 30.0/42.8 MB 5.0 MB/s eta 0:00:03\n",
      "     ---------------------------- ----------- 30.2/42.8 MB 5.1 MB/s eta 0:00:03\n",
      "     ---------------------------- ----------- 30.5/42.8 MB 5.0 MB/s eta 0:00:03\n",
      "     ---------------------------- ----------- 30.7/42.8 MB 5.0 MB/s eta 0:00:03\n",
      "     ---------------------------- ----------- 30.9/42.8 MB 5.0 MB/s eta 0:00:03\n",
      "     ----------------------------- ---------- 31.2/42.8 MB 5.0 MB/s eta 0:00:03\n",
      "     ----------------------------- ---------- 31.4/42.8 MB 4.9 MB/s eta 0:00:03\n",
      "     ----------------------------- ---------- 31.7/42.8 MB 5.0 MB/s eta 0:00:03\n",
      "     ----------------------------- ---------- 31.9/42.8 MB 5.0 MB/s eta 0:00:03\n",
      "     ------------------------------ --------- 32.1/42.8 MB 5.0 MB/s eta 0:00:03\n",
      "     ------------------------------ --------- 32.4/42.8 MB 5.0 MB/s eta 0:00:03\n",
      "     ------------------------------ --------- 32.6/42.8 MB 4.9 MB/s eta 0:00:03\n",
      "     ------------------------------ --------- 32.9/42.8 MB 5.0 MB/s eta 0:00:02\n",
      "     ------------------------------ --------- 33.1/42.8 MB 5.0 MB/s eta 0:00:02\n",
      "     ------------------------------- -------- 33.4/42.8 MB 5.0 MB/s eta 0:00:02\n",
      "     ------------------------------- -------- 33.6/42.8 MB 5.0 MB/s eta 0:00:02\n",
      "     ------------------------------- -------- 33.9/42.8 MB 5.0 MB/s eta 0:00:02\n",
      "     ------------------------------- -------- 34.1/42.8 MB 5.0 MB/s eta 0:00:02\n",
      "     -------------------------------- ------- 34.4/42.8 MB 5.1 MB/s eta 0:00:02\n",
      "     -------------------------------- ------- 34.6/42.8 MB 5.1 MB/s eta 0:00:02\n",
      "     -------------------------------- ------- 34.9/42.8 MB 5.1 MB/s eta 0:00:02\n",
      "     -------------------------------- ------- 35.2/42.8 MB 5.2 MB/s eta 0:00:02\n",
      "     --------------------------------- ------ 35.4/42.8 MB 5.2 MB/s eta 0:00:02\n",
      "     --------------------------------- ------ 35.6/42.8 MB 5.2 MB/s eta 0:00:02\n",
      "     --------------------------------- ------ 35.9/42.8 MB 5.2 MB/s eta 0:00:02\n",
      "     --------------------------------- ------ 36.1/42.8 MB 5.2 MB/s eta 0:00:02\n",
      "     ---------------------------------- ----- 36.4/42.8 MB 5.2 MB/s eta 0:00:02\n",
      "     ---------------------------------- ----- 36.7/42.8 MB 5.2 MB/s eta 0:00:02\n",
      "     ---------------------------------- ----- 36.9/42.8 MB 5.2 MB/s eta 0:00:02\n",
      "     ---------------------------------- ----- 37.1/42.8 MB 5.3 MB/s eta 0:00:02\n",
      "     ---------------------------------- ----- 37.4/42.8 MB 5.2 MB/s eta 0:00:02\n",
      "     ----------------------------------- ---- 37.7/42.8 MB 5.2 MB/s eta 0:00:01\n",
      "     ----------------------------------- ---- 37.9/42.8 MB 5.3 MB/s eta 0:00:01\n",
      "     ----------------------------------- ---- 38.2/42.8 MB 5.3 MB/s eta 0:00:01\n",
      "     ----------------------------------- ---- 38.4/42.8 MB 5.3 MB/s eta 0:00:01\n",
      "     ------------------------------------ --- 38.7/42.8 MB 5.3 MB/s eta 0:00:01\n",
      "     ------------------------------------ --- 38.9/42.8 MB 5.4 MB/s eta 0:00:01\n",
      "     ------------------------------------ --- 39.2/42.8 MB 5.3 MB/s eta 0:00:01\n",
      "     ------------------------------------ --- 39.5/42.8 MB 5.4 MB/s eta 0:00:01\n",
      "     ------------------------------------- -- 39.7/42.8 MB 5.4 MB/s eta 0:00:01\n",
      "     ------------------------------------- -- 40.0/42.8 MB 5.4 MB/s eta 0:00:01\n",
      "     ------------------------------------- -- 40.2/42.8 MB 5.4 MB/s eta 0:00:01\n",
      "     ------------------------------------- -- 40.5/42.8 MB 5.4 MB/s eta 0:00:01\n",
      "     -------------------------------------- - 40.7/42.8 MB 5.4 MB/s eta 0:00:01\n",
      "     -------------------------------------- - 41.0/42.8 MB 5.4 MB/s eta 0:00:01\n",
      "     -------------------------------------- - 41.3/42.8 MB 5.4 MB/s eta 0:00:01\n",
      "     -------------------------------------- - 41.5/42.8 MB 5.5 MB/s eta 0:00:01\n",
      "     -------------------------------------- - 41.7/42.8 MB 5.4 MB/s eta 0:00:01\n",
      "     ---------------------------------------  42.0/42.8 MB 5.5 MB/s eta 0:00:01\n",
      "     ---------------------------------------  42.3/42.8 MB 5.5 MB/s eta 0:00:01\n",
      "     ---------------------------------------  42.5/42.8 MB 5.5 MB/s eta 0:00:01\n",
      "     ---------------------------------------  42.8/42.8 MB 5.5 MB/s eta 0:00:01\n",
      "     ---------------------------------------  42.8/42.8 MB 5.5 MB/s eta 0:00:01\n",
      "     ---------------------------------------  42.8/42.8 MB 5.5 MB/s eta 0:00:01\n",
      "     ---------------------------------------  42.8/42.8 MB 5.5 MB/s eta 0:00:01\n",
      "     ---------------------------------------- 42.8/42.8 MB 5.1 MB/s eta 0:00:00\n",
      "Requirement already satisfied: spacy<3.7.0,>=3.6.0 in d:\\develop\\python310\\lib\\site-packages (from en-core-web-md==3.6.0) (3.6.1)\n",
      "Requirement already satisfied: spacy-legacy<3.1.0,>=3.0.11 in d:\\develop\\python310\\lib\\site-packages (from spacy<3.7.0,>=3.6.0->en-core-web-md==3.6.0) (3.0.12)\n",
      "Requirement already satisfied: spacy-loggers<2.0.0,>=1.0.0 in d:\\develop\\python310\\lib\\site-packages (from spacy<3.7.0,>=3.6.0->en-core-web-md==3.6.0) (1.0.5)\n",
      "Requirement already satisfied: murmurhash<1.1.0,>=0.28.0 in d:\\develop\\python310\\lib\\site-packages (from spacy<3.7.0,>=3.6.0->en-core-web-md==3.6.0) (1.0.10)\n",
      "Requirement already satisfied: cymem<2.1.0,>=2.0.2 in d:\\develop\\python310\\lib\\site-packages (from spacy<3.7.0,>=3.6.0->en-core-web-md==3.6.0) (2.0.8)\n",
      "Requirement already satisfied: preshed<3.1.0,>=3.0.2 in d:\\develop\\python310\\lib\\site-packages (from spacy<3.7.0,>=3.6.0->en-core-web-md==3.6.0) (3.0.9)\n",
      "Requirement already satisfied: thinc<8.2.0,>=8.1.8 in d:\\develop\\python310\\lib\\site-packages (from spacy<3.7.0,>=3.6.0->en-core-web-md==3.6.0) (8.1.12)\n",
      "Requirement already satisfied: wasabi<1.2.0,>=0.9.1 in d:\\develop\\python310\\lib\\site-packages (from spacy<3.7.0,>=3.6.0->en-core-web-md==3.6.0) (1.1.2)\n",
      "Requirement already satisfied: srsly<3.0.0,>=2.4.3 in d:\\develop\\python310\\lib\\site-packages (from spacy<3.7.0,>=3.6.0->en-core-web-md==3.6.0) (2.4.8)\n",
      "Requirement already satisfied: catalogue<2.1.0,>=2.0.6 in d:\\develop\\python310\\lib\\site-packages (from spacy<3.7.0,>=3.6.0->en-core-web-md==3.6.0) (2.0.10)\n",
      "Requirement already satisfied: typer<0.10.0,>=0.3.0 in d:\\develop\\python310\\lib\\site-packages (from spacy<3.7.0,>=3.6.0->en-core-web-md==3.6.0) (0.9.0)\n",
      "Requirement already satisfied: pathy>=0.10.0 in d:\\develop\\python310\\lib\\site-packages (from spacy<3.7.0,>=3.6.0->en-core-web-md==3.6.0) (0.10.2)\n",
      "Requirement already satisfied: smart-open<7.0.0,>=5.2.1 in d:\\develop\\python310\\lib\\site-packages (from spacy<3.7.0,>=3.6.0->en-core-web-md==3.6.0) (6.3.0)\n",
      "Requirement already satisfied: tqdm<5.0.0,>=4.38.0 in d:\\develop\\python310\\lib\\site-packages (from spacy<3.7.0,>=3.6.0->en-core-web-md==3.6.0) (4.65.0)\n",
      "Requirement already satisfied: numpy>=1.15.0 in d:\\develop\\python310\\lib\\site-packages (from spacy<3.7.0,>=3.6.0->en-core-web-md==3.6.0) (1.25.0)\n",
      "Requirement already satisfied: requests<3.0.0,>=2.13.0 in d:\\develop\\python310\\lib\\site-packages (from spacy<3.7.0,>=3.6.0->en-core-web-md==3.6.0) (2.28.2)\n",
      "Requirement already satisfied: pydantic!=1.8,!=1.8.1,<3.0.0,>=1.7.4 in d:\\develop\\python310\\lib\\site-packages (from spacy<3.7.0,>=3.6.0->en-core-web-md==3.6.0) (2.4.2)\n",
      "Requirement already satisfied: jinja2 in d:\\develop\\python310\\lib\\site-packages (from spacy<3.7.0,>=3.6.0->en-core-web-md==3.6.0) (3.1.2)\n",
      "Requirement already satisfied: setuptools in d:\\develop\\python310\\lib\\site-packages (from spacy<3.7.0,>=3.6.0->en-core-web-md==3.6.0) (65.5.0)\n",
      "Requirement already satisfied: packaging>=20.0 in d:\\develop\\python310\\lib\\site-packages (from spacy<3.7.0,>=3.6.0->en-core-web-md==3.6.0) (23.0)\n",
      "Requirement already satisfied: langcodes<4.0.0,>=3.2.0 in d:\\develop\\python310\\lib\\site-packages (from spacy<3.7.0,>=3.6.0->en-core-web-md==3.6.0) (3.3.0)\n",
      "Requirement already satisfied: annotated-types>=0.4.0 in d:\\develop\\python310\\lib\\site-packages (from pydantic!=1.8,!=1.8.1,<3.0.0,>=1.7.4->spacy<3.7.0,>=3.6.0->en-core-web-md==3.6.0) (0.5.0)\n",
      "Requirement already satisfied: pydantic-core==2.10.1 in d:\\develop\\python310\\lib\\site-packages (from pydantic!=1.8,!=1.8.1,<3.0.0,>=1.7.4->spacy<3.7.0,>=3.6.0->en-core-web-md==3.6.0) (2.10.1)\n",
      "Requirement already satisfied: typing-extensions>=4.6.1 in d:\\develop\\python310\\lib\\site-packages (from pydantic!=1.8,!=1.8.1,<3.0.0,>=1.7.4->spacy<3.7.0,>=3.6.0->en-core-web-md==3.6.0) (4.8.0)\n",
      "Requirement already satisfied: charset-normalizer<4,>=2 in d:\\develop\\python310\\lib\\site-packages (from requests<3.0.0,>=2.13.0->spacy<3.7.0,>=3.6.0->en-core-web-md==3.6.0) (3.1.0)\n",
      "Requirement already satisfied: idna<4,>=2.5 in d:\\develop\\python310\\lib\\site-packages (from requests<3.0.0,>=2.13.0->spacy<3.7.0,>=3.6.0->en-core-web-md==3.6.0) (3.4)\n",
      "Requirement already satisfied: urllib3<1.27,>=1.21.1 in d:\\develop\\python310\\lib\\site-packages (from requests<3.0.0,>=2.13.0->spacy<3.7.0,>=3.6.0->en-core-web-md==3.6.0) (1.26.14)\n",
      "Requirement already satisfied: certifi>=2017.4.17 in d:\\develop\\python310\\lib\\site-packages (from requests<3.0.0,>=2.13.0->spacy<3.7.0,>=3.6.0->en-core-web-md==3.6.0) (2022.12.7)\n",
      "Requirement already satisfied: blis<0.8.0,>=0.7.8 in d:\\develop\\python310\\lib\\site-packages (from thinc<8.2.0,>=8.1.8->spacy<3.7.0,>=3.6.0->en-core-web-md==3.6.0) (0.7.11)\n",
      "Requirement already satisfied: confection<1.0.0,>=0.0.1 in d:\\develop\\python310\\lib\\site-packages (from thinc<8.2.0,>=8.1.8->spacy<3.7.0,>=3.6.0->en-core-web-md==3.6.0) (0.1.3)\n",
      "Requirement already satisfied: colorama in d:\\develop\\python310\\lib\\site-packages (from tqdm<5.0.0,>=4.38.0->spacy<3.7.0,>=3.6.0->en-core-web-md==3.6.0) (0.4.6)\n",
      "Requirement already satisfied: click<9.0.0,>=7.1.1 in d:\\develop\\python310\\lib\\site-packages (from typer<0.10.0,>=0.3.0->spacy<3.7.0,>=3.6.0->en-core-web-md==3.6.0) (8.1.3)\n",
      "Requirement already satisfied: MarkupSafe>=2.0 in d:\\develop\\python310\\lib\\site-packages (from jinja2->spacy<3.7.0,>=3.6.0->en-core-web-md==3.6.0) (2.1.2)\n",
      "\u001b[38;5;2m✔ Download and installation successful\u001b[0m\n",
      "You can now load the package via spacy.load('en_core_web_md')\n"
     ]
    }
   ],
   "source": [
    "%pip install spacy==3.6.1\n",
    "%pip install ml-datasets\n",
    "!python -m spacy download en_core_web_md"
   ]
  },
  {
   "cell_type": "code",
   "execution_count": 2,
   "metadata": {},
   "outputs": [],
   "source": [
    "import spacy\n",
    "from tqdm.auto import tqdm\n",
    "from spacy.tokens import DocBin\n",
    "from ml_datasets import imdb\n",
    "train_data, valid_data = imdb() # отзывы на фильм\n",
    "nlp = spacy.load(\"en_core_web_md\") # может занять 5 минут"
   ]
  },
  {
   "cell_type": "code",
   "execution_count": 3,
   "metadata": {},
   "outputs": [
    {
     "data": {
      "text/plain": [
       "('Roommates Sugar and Bobby Lee are abducted by menacing dudes while out shopping one day and taken back to a secluded island that the girls reluctantly tell the thugs that they last visited when they were ten years of age and that a fortune is located on. All that just pretty much bookends a movie that is pretty much one long flashback about the girls first visit to the island and subsequent fight with a cannibalistic family.\\n\\n\\n\\nThis one is extremely horribly acted by everyone involved to the point that I started feeling bad for poor Hank Worden who truly deserved much MUCH better. As much as I didn\\'t like \"Barracuda\" (that\\'s on the same DVD) I have to admit that this film makes that one look like Citizen Kane.\\n\\n\\n\\nEye Candy: one pair of tits (they might belong to Kirsten Baker) \\n\\n\\n\\nMy Grade: F \\n\\n\\n\\nDark Sky DVD Extras: Vintage ads for various drive-in food; and Trailers for \"Bonnie\\'s Kids\" (features nudity), \"the Centerfold Girls\", \"Part-time Wife\" (features nudity), \"Psychic Killer\", & \"Eaten Alive\". The DVD also comes with 1978\\'s \"Barracuda\"',\n",
       " 'neg')"
      ]
     },
     "execution_count": 3,
     "metadata": {},
     "output_type": "execute_result"
    }
   ],
   "source": [
    "# Пример из датасета\n",
    "train_data[0]"
   ]
  },
  {
   "cell_type": "code",
   "execution_count": 4,
   "metadata": {},
   "outputs": [
    {
     "data": {
      "text/plain": [
       "['tok2vec', 'tagger', 'parser', 'attribute_ruler', 'lemmatizer', 'ner']"
      ]
     },
     "execution_count": 4,
     "metadata": {},
     "output_type": "execute_result"
    }
   ],
   "source": [
    "nlp.pipe_names"
   ]
  },
  {
   "cell_type": "code",
   "execution_count": 5,
   "metadata": {},
   "outputs": [
    {
     "data": {
      "text/plain": [
       "<generator object Language.pipe at 0x000001734750AC00>"
      ]
     },
     "execution_count": 5,
     "metadata": {},
     "output_type": "execute_result"
    }
   ],
   "source": [
    "nlp.pipe(train_data[0], as_tuples=True)"
   ]
  },
  {
   "cell_type": "code",
   "execution_count": 6,
   "metadata": {},
   "outputs": [],
   "source": [
    "def make_docs(data):\n",
    "    \"\"\"\n",
    "    this will take a list of texts and labels\n",
    "    and transform them in spacy documents\n",
    "    data: list(tuple(text, label))\n",
    "    returns: List(spacy.Doc.doc)\n",
    "    \"\"\"\n",
    "    docs = []\n",
    "    # nlp.pipe([texts]) is way faster than running\n",
    "    # nlp(text) for each text\n",
    "    # as_tuples allows us to pass in a tuple,\n",
    "    # the first one is treated as text\n",
    "    # the second one will get returned as it is.\n",
    "    # a = tqdm(nlp.pipe(data, as_tuples=True), total = len(data))\n",
    "    for doc, label in tqdm(nlp.pipe(data, as_tuples=True), total = len(data)):\n",
    "        # One Hot Encodding\n",
    "        if label == 'neg':\n",
    "            doc.cats[\"positive\"] = 0\n",
    "            doc.cats[\"negative\"] = 1\n",
    "        else:\n",
    "            doc.cats[\"positive\"] = 1\n",
    "            doc.cats[\"negative\"] = 0\n",
    "        docs.append(doc)\n",
    "    return docs"
   ]
  },
  {
   "cell_type": "code",
   "execution_count": 7,
   "metadata": {},
   "outputs": [
    {
     "data": {
      "application/vnd.jupyter.widget-view+json": {
       "model_id": "514cde8f3b954067a44e38f9abfd9343",
       "version_major": 2,
       "version_minor": 0
      },
      "text/plain": [
       "  0%|          | 0/1000 [00:00<?, ?it/s]"
      ]
     },
     "metadata": {},
     "output_type": "display_data"
    }
   ],
   "source": [
    "# это для примера, можно взять больше количество текстов\n",
    "num_texts = 1000\n",
    "train_docs = make_docs(train_data[:num_texts])"
   ]
  },
  {
   "cell_type": "code",
   "execution_count": 8,
   "metadata": {},
   "outputs": [
    {
     "data": {
      "application/vnd.jupyter.widget-view+json": {
       "model_id": "796d6a1b222141d28354b9dd18894b55",
       "version_major": 2,
       "version_minor": 0
      },
      "text/plain": [
       "  0%|          | 0/1000 [00:00<?, ?it/s]"
      ]
     },
     "metadata": {},
     "output_type": "display_data"
    }
   ],
   "source": [
    "# then we save it in a binary file to disc\n",
    "doc_bin = DocBin(docs=train_docs)\n",
    "doc_bin.to_disk(\"train.spacy\")\n",
    "# repeat for validation data\n",
    "valid_docs = make_docs(valid_data[:num_texts])\n",
    "doc_bin = DocBin(docs=valid_docs)\n",
    "doc_bin.to_disk(\"valid.spacy\")"
   ]
  },
  {
   "cell_type": "markdown",
   "metadata": {},
   "source": [
    "На этом месте мы идём в https://spacy.io/usage/training#quickstart, там настраиваем под себя конфиг в разделе *quickstart*, копируем его руками(!) в base_config.cfg, указываем правильные пути до трейн и вэлид, но после этого некоторые поля, возможно, придётся руками дописать. Главное, проверить, что есть вот такие строчки:\n",
    "\n",
    "[nlp]<br />\n",
    "lang = \"en\"<br />\n",
    "pipeline = [\"textcat\"]<br />\n",
    "\n",
    "batch_size = 1000\n",
    "\n",
    "[components]\n",
    "\n",
    "[components.textcat]<br />\n",
    "factory = \"textcat\"\n",
    "\n",
    "\n",
    "или можно просто взять мой приложенный, он рабочий"
   ]
  },
  {
   "cell_type": "code",
   "execution_count": 9,
   "metadata": {},
   "outputs": [],
   "source": [
    "# что здесь происходит: мы заполнили base_config, а эта команда на его основе прописывает config.cfg\n",
    "! python -m spacy init fill-config base_config.cfg config.cfg\n",
    "# после запуска этой команды нужно уменьшить max_steps и прописать пути train и dev"
   ]
  },
  {
   "cell_type": "code",
   "execution_count": 10,
   "metadata": {},
   "outputs": [
    {
     "name": "stdout",
     "output_type": "stream",
     "text": [
      "\u001b[38;5;4mℹ Saving to output directory: output\u001b[0m\n",
      "\u001b[38;5;4mℹ Using CPU\u001b[0m\n",
      "\u001b[1m\n",
      "=========================== Initializing pipeline ===========================\u001b[0m\n",
      "\u001b[38;5;2m✔ Initialized pipeline\u001b[0m\n",
      "\u001b[1m\n",
      "============================= Training pipeline =============================\u001b[0m\n",
      "\u001b[38;5;4mℹ Pipeline: ['textcat']\u001b[0m\n",
      "\u001b[38;5;4mℹ Initial learn rate: 0.001\u001b[0m\n",
      "E    #       LOSS TEXTCAT  CATS_SCORE  SCORE \n",
      "---  ------  ------------  ----------  ------\n",
      "  0       0          0.25       32.30    0.32\n",
      "  0     200         54.26       53.49    0.53\n",
      "  0     400         39.80       74.71    0.75\n",
      "  0     600         42.21       78.50    0.78\n",
      "  0     800         29.28       78.77    0.79\n",
      "  1    1000         21.25       71.08    0.71\n",
      "  1    1200          3.63       78.68    0.79\n",
      "  1    1400          3.71       80.58    0.81\n",
      "  1    1600          3.47       79.70    0.80\n",
      "  1    1800          2.18       77.06    0.77\n",
      "  2    2000          4.83       77.83    0.78\n",
      "\u001b[38;5;2m✔ Saved pipeline to output directory\u001b[0m\n",
      "output\\model-last\n"
     ]
    }
   ],
   "source": [
    "# тренируем модель\n",
    "! python -m spacy train config.cfg --output ./output\n",
    "# данных мало, сильно на метрики внимания не обращаем"
   ]
  },
  {
   "cell_type": "code",
   "execution_count": 11,
   "metadata": {},
   "outputs": [
    {
     "name": "stdout",
     "output_type": "stream",
     "text": [
      "type : ‘quit’ to exit\n",
      "nice\n",
      "{'positive': 0.5492357611656189, 'negative': 0.4507642388343811}\n",
      "the sentiment is positive\n",
      "bad review\n",
      "{'positive': 0.3284081816673279, 'negative': 0.6715918183326721}\n",
      "the sentiment is negative\n",
      "bad\n",
      "{'positive': 0.3714073896408081, 'negative': 0.6285925507545471}\n",
      "the sentiment is negative\n"
     ]
    }
   ],
   "source": [
    "# загружаем лучшую модель\n",
    "nlp = spacy.load(\"output/model-best\")\n",
    "text = \"\"\n",
    "print(\"type : ‘quit’ to exit\")\n",
    "# predict the sentiment until someone writes quit\n",
    "while True:\n",
    "    text = input(\"Please enter example input: \") # не обязательно в начальной форме\n",
    "    if text == \"quit\":\n",
    "        break\n",
    "    print(text)\n",
    "    doc = nlp(text)\n",
    "    print(doc.cats)\n",
    "    if doc.cats['positive'] >.5:\n",
    "        print(f\"the sentiment is positive\")\n",
    "    else:\n",
    "        print(f\"the sentiment is negative\")\n",
    "        \n",
    "# значения в пределах 0.5, модель не сильно уверена, нужно больше данных"
   ]
  },
  {
   "cell_type": "code",
   "execution_count": 12,
   "metadata": {},
   "outputs": [
    {
     "data": {
      "text/plain": [
       "{'positive': 0.4794910252094269, 'negative': 0.5205089449882507}"
      ]
     },
     "execution_count": 12,
     "metadata": {},
     "output_type": "execute_result"
    }
   ],
   "source": [
    "nlp('good review').cats"
   ]
  }
 ],
 "metadata": {
  "kernelspec": {
   "display_name": "Python 3",
   "language": "python",
   "name": "python3"
  },
  "language_info": {
   "codemirror_mode": {
    "name": "ipython",
    "version": 3
   },
   "file_extension": ".py",
   "mimetype": "text/x-python",
   "name": "python",
   "nbconvert_exporter": "python",
   "pygments_lexer": "ipython3",
   "version": "3.10.10"
  },
  "orig_nbformat": 4
 },
 "nbformat": 4,
 "nbformat_minor": 2
}
