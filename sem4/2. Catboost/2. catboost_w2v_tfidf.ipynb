{
 "cells": [
  {
   "cell_type": "code",
   "execution_count": 1,
   "id": "strategic-interview",
   "metadata": {
    "scrolled": true
   },
   "outputs": [],
   "source": [
    "import pandas as pd\n",
    "import re\n",
    "import pymorphy2\n",
    "from nltk.tokenize import word_tokenize \n",
    "from gensim.models import Word2Vec\n",
    "\n",
    "\n",
    "from tqdm import tqdm\n",
    "tqdm.pandas()"
   ]
  },
  {
   "cell_type": "code",
   "execution_count": 2,
   "id": "significant-shower",
   "metadata": {},
   "outputs": [],
   "source": [
    "path = '../TF-IDF/women-clothing-accessories.3-class.balanced.csv'\n",
    "df = pd.read_csv(path, encoding=\"utf8\", sep='\\t')"
   ]
  },
  {
   "cell_type": "code",
   "execution_count": 3,
   "id": "fifty-divorce",
   "metadata": {},
   "outputs": [],
   "source": [
    "df = df[df['sentiment'] != 'neautral']"
   ]
  },
  {
   "cell_type": "code",
   "execution_count": 4,
   "id": "generous-beginning",
   "metadata": {},
   "outputs": [],
   "source": [
    "# убрали знаки препинания\n",
    "df['review_processed'] = df['review'].apply(lambda x: re.sub(r'[^\\w\\s]', '', x)).values"
   ]
  },
  {
   "cell_type": "code",
   "execution_count": 5,
   "id": "referenced-skating",
   "metadata": {},
   "outputs": [
    {
     "name": "stderr",
     "output_type": "stream",
     "text": [
      "100%|██████████| 60000/60000 [00:06<00:00, 8890.45it/s] \n"
     ]
    }
   ],
   "source": [
    "df['review_processed'] = df['review_processed'].progress_apply(lambda x: word_tokenize(x))"
   ]
  },
  {
   "cell_type": "code",
   "execution_count": 6,
   "id": "extra-alliance",
   "metadata": {},
   "outputs": [],
   "source": [
    "morph = pymorphy2.MorphAnalyzer()"
   ]
  },
  {
   "cell_type": "code",
   "execution_count": 7,
   "id": "broadband-teens",
   "metadata": {},
   "outputs": [
    {
     "name": "stderr",
     "output_type": "stream",
     "text": [
      "100%|██████████| 60000/60000 [03:02<00:00, 329.63it/s]\n"
     ]
    }
   ],
   "source": [
    "df['review_lemmatized'] = df['review_processed'].progress_apply(lambda x: [morph.parse(w)[0].normal_form for w in x])"
   ]
  },
  {
   "cell_type": "code",
   "execution_count": 8,
   "id": "intense-plymouth",
   "metadata": {},
   "outputs": [],
   "source": [
    "w2v_model = Word2Vec(min_count=5,\n",
    "                     window=2,\n",
    "                     sample=6e-5, \n",
    "                     alpha=0.03, \n",
    "                     min_alpha=0.0007, \n",
    "                     negative=20)"
   ]
  },
  {
   "cell_type": "code",
   "execution_count": 9,
   "id": "greatest-panel",
   "metadata": {},
   "outputs": [
    {
     "data": {
      "text/plain": [
       "(11524785, 35884950)"
      ]
     },
     "execution_count": 9,
     "metadata": {},
     "output_type": "execute_result"
    }
   ],
   "source": [
    "sent = df['review_lemmatized'].values\n",
    "w2v_model.build_vocab(sent, progress_per=1000)\n",
    "w2v_model.train(sent, total_examples=w2v_model.corpus_count, epochs=30, report_delay=1)"
   ]
  },
  {
   "cell_type": "code",
   "execution_count": 10,
   "id": "focused-siemens",
   "metadata": {},
   "outputs": [
    {
     "data": {
      "text/plain": [
       "array([-0.5673582 , -0.4235594 ,  0.6574695 , -0.07739633,  0.26882243,\n",
       "        0.05577067, -0.48489583,  0.1176926 , -0.10880665, -0.23577942,\n",
       "       -0.06415588, -0.8206807 , -0.7462041 ,  0.2386792 ,  0.53259796,\n",
       "       -0.0106632 , -0.01083766,  0.38577062,  0.5862279 ,  0.02303083,\n",
       "        0.1991865 ,  0.05275458, -0.6235246 , -0.52850085,  0.03812258,\n",
       "        0.4045231 ,  0.08969192,  0.12912506, -0.2005748 , -0.08511876,\n",
       "       -0.1182347 , -0.00876834,  0.09601021,  0.22756955, -0.6533377 ,\n",
       "       -0.5079823 ,  0.02339345,  0.40496448, -0.58352417,  0.07745548,\n",
       "        0.02597705, -0.52209204,  0.329115  ,  0.3435245 , -0.04041715,\n",
       "        0.22901921, -1.3926383 , -0.00732074,  0.35793933,  0.24236599,\n",
       "        0.3465896 , -0.37014413,  0.4644588 , -0.2240787 , -0.38615486,\n",
       "       -0.17923155,  0.08022086,  0.19584914, -0.20136946, -0.47132868,\n",
       "       -0.2339932 ,  0.5385101 , -0.08685377, -0.09517077, -0.6588447 ,\n",
       "        0.13643958,  0.986363  , -0.1246378 ,  0.5732709 ,  0.00881044,\n",
       "       -0.14107971,  0.13772663, -0.12081382,  0.75891066,  0.48607638,\n",
       "       -0.3846211 ,  0.07965059, -0.11337473,  0.30382502,  0.26952365,\n",
       "       -0.04406456,  0.70779604, -0.33607724, -0.6132572 , -0.05237303,\n",
       "        0.8058821 ,  0.11496068,  0.71290386,  0.25207835,  0.08437296,\n",
       "        0.1514422 ,  0.51656485, -0.09177953,  0.32900319, -0.3156492 ,\n",
       "       -0.23619425,  0.33096996, -0.73282814,  0.5389065 ,  0.8512619 ],\n",
       "      dtype=float32)"
      ]
     },
     "execution_count": 10,
     "metadata": {},
     "output_type": "execute_result"
    }
   ],
   "source": [
    "w2v_model.wv['качество']"
   ]
  },
  {
   "cell_type": "code",
   "execution_count": 11,
   "id": "earlier-bridges",
   "metadata": {},
   "outputs": [
    {
     "data": {
      "text/plain": [
       "[('отвратительный', 0.8528346419334412),\n",
       " ('плохой', 0.7408738136291504),\n",
       " ('ужас', 0.6534412503242493),\n",
       " ('ужастный', 0.6230824589729309),\n",
       " ('кошмарный', 0.6218550801277161),\n",
       " ('отвратный', 0.6166849732398987),\n",
       " ('жуткий', 0.5708467960357666),\n",
       " ('дешёвый', 0.5623089671134949),\n",
       " ('отстой', 0.5610623955726624),\n",
       " ('выброс', 0.5546766519546509)]"
      ]
     },
     "execution_count": 11,
     "metadata": {},
     "output_type": "execute_result"
    }
   ],
   "source": [
    "w2v_model.wv.most_similar('ужасный')"
   ]
  },
  {
   "cell_type": "code",
   "execution_count": 12,
   "id": "basic-cooperative",
   "metadata": {},
   "outputs": [],
   "source": [
    "from scipy.spatial.distance import cosine"
   ]
  },
  {
   "cell_type": "code",
   "execution_count": 13,
   "id": "collected-mongolia",
   "metadata": {},
   "outputs": [
    {
     "data": {
      "text/plain": [
       "0.7229103744029999"
      ]
     },
     "execution_count": 13,
     "metadata": {},
     "output_type": "execute_result"
    }
   ],
   "source": [
    "cosine(w2v_model.wv['хороший'], w2v_model.wv['ужасный'])"
   ]
  },
  {
   "cell_type": "code",
   "execution_count": 14,
   "id": "instructional-reward",
   "metadata": {},
   "outputs": [
    {
     "data": {
      "text/plain": [
       "0.2591262459754944"
      ]
     },
     "execution_count": 14,
     "metadata": {},
     "output_type": "execute_result"
    }
   ],
   "source": [
    "cosine(w2v_model.wv['плохой'], w2v_model.wv['ужасный'])"
   ]
  },
  {
   "cell_type": "code",
   "execution_count": 15,
   "id": "incredible-asian",
   "metadata": {},
   "outputs": [
    {
     "data": {
      "text/plain": [
       "0.14716529846191406"
      ]
     },
     "execution_count": 15,
     "metadata": {},
     "output_type": "execute_result"
    }
   ],
   "source": [
    "cosine(w2v_model.wv['отвратительный'], w2v_model.wv['ужасный'])"
   ]
  },
  {
   "cell_type": "markdown",
   "id": "d78c1658",
   "metadata": {},
   "source": [
    "## CatBoost"
   ]
  },
  {
   "cell_type": "markdown",
   "id": "e4ca70bd",
   "metadata": {},
   "source": [
    "Сделать вектор для каждого слова"
   ]
  },
  {
   "cell_type": "code",
   "execution_count": 16,
   "id": "d861a3c5",
   "metadata": {},
   "outputs": [],
   "source": [
    "import numpy as np"
   ]
  },
  {
   "cell_type": "code",
   "execution_count": 17,
   "id": "3c948b7e",
   "metadata": {},
   "outputs": [],
   "source": [
    "# 1 - без TF-IDF (без учета важности слов)\n",
    "# 2 - TF-IDF\n",
    "variant = 1"
   ]
  },
  {
   "cell_type": "code",
   "execution_count": 18,
   "id": "proud-hobby",
   "metadata": {},
   "outputs": [],
   "source": [
    "# Вариант 1\n",
    "if variant == 1:\n",
    "    def get_text_vector(text):\n",
    "        vecs = []\n",
    "        for word in text:\n",
    "            try:\n",
    "                vecs.append(w2v_model.wv[word])\n",
    "            except KeyError: # Для пропуска слов, которых нет в словаре\n",
    "                continue\n",
    "        \n",
    "        return np.array(vecs).mean(axis=0)"
   ]
  },
  {
   "cell_type": "code",
   "execution_count": 19,
   "id": "insured-marketplace",
   "metadata": {},
   "outputs": [],
   "source": [
    "# Вариант 2\n",
    "if variant == 2:\n",
    "    from sklearn.feature_extraction.text import TfidfVectorizer\n",
    "    vectorizer = TfidfVectorizer()\n",
    "    # Список слов в строку\n",
    "    tf_idf_weights = vectorizer.fit_transform([', '.join(x) for x in df['review_lemmatized']])"
   ]
  },
  {
   "cell_type": "code",
   "execution_count": 20,
   "id": "painful-cherry",
   "metadata": {},
   "outputs": [],
   "source": [
    "if variant == 2:\n",
    "    dictionary = dict(zip(vectorizer.get_feature_names_out(), vectorizer.idf_))\n",
    "    dictionary['плохой']"
   ]
  },
  {
   "cell_type": "code",
   "execution_count": 21,
   "id": "f12e3204",
   "metadata": {},
   "outputs": [],
   "source": [
    "if variant == 2:\n",
    "    def get_text_vector(text):\n",
    "        vecs = []\n",
    "        for word in text:\n",
    "            try:\n",
    "                vecs.append(w2v_model.wv[word] * dictionary[word])\n",
    "            except KeyError: # Для пропуска слов, которых нет в словаре\n",
    "                continue\n",
    "        \n",
    "        return np.array(vecs).mean(axis=0)"
   ]
  },
  {
   "cell_type": "code",
   "execution_count": 22,
   "id": "lyric-allowance",
   "metadata": {},
   "outputs": [
    {
     "name": "stderr",
     "output_type": "stream",
     "text": [
      "  0%|          | 0/60000 [00:00<?, ?it/s]C:\\Temp\\ipykernel_15096\\1348109896.py:11: RuntimeWarning: Mean of empty slice.\n",
      "  return np.array(vecs).mean(axis=0)\n",
      "100%|██████████| 60000/60000 [00:02<00:00, 22993.24it/s]\n"
     ]
    }
   ],
   "source": [
    "df['vector'] = df['review_lemmatized'].progress_apply(get_text_vector)"
   ]
  },
  {
   "cell_type": "markdown",
   "id": "bbecb671",
   "metadata": {},
   "source": [
    "Применим CatBoost"
   ]
  },
  {
   "cell_type": "code",
   "execution_count": 23,
   "id": "athletic-corpus",
   "metadata": {},
   "outputs": [
    {
     "name": "stdout",
     "output_type": "stream",
     "text": [
      "Requirement already satisfied: catboost in d:\\develop\\python310\\lib\\site-packages (1.2.2)\n",
      "Requirement already satisfied: graphviz in d:\\develop\\python310\\lib\\site-packages (from catboost) (0.20.1)\n",
      "Requirement already satisfied: matplotlib in d:\\develop\\python310\\lib\\site-packages (from catboost) (3.7.1)\n",
      "Requirement already satisfied: numpy>=1.16.0 in d:\\develop\\python310\\lib\\site-packages (from catboost) (1.25.0)\n",
      "Requirement already satisfied: pandas>=0.24 in d:\\develop\\python310\\lib\\site-packages (from catboost) (1.5.3)\n",
      "Requirement already satisfied: scipy in d:\\develop\\python310\\lib\\site-packages (from catboost) (1.10.1)\n",
      "Requirement already satisfied: plotly in d:\\develop\\python310\\lib\\site-packages (from catboost) (5.17.0)\n",
      "Requirement already satisfied: six in d:\\develop\\python310\\lib\\site-packages (from catboost) (1.16.0)\n",
      "Requirement already satisfied: python-dateutil>=2.8.1 in d:\\develop\\python310\\lib\\site-packages (from pandas>=0.24->catboost) (2.8.2)\n",
      "Requirement already satisfied: pytz>=2020.1 in d:\\develop\\python310\\lib\\site-packages (from pandas>=0.24->catboost) (2022.7.1)\n",
      "Requirement already satisfied: contourpy>=1.0.1 in d:\\develop\\python310\\lib\\site-packages (from matplotlib->catboost) (1.0.7)\n",
      "Requirement already satisfied: cycler>=0.10 in d:\\develop\\python310\\lib\\site-packages (from matplotlib->catboost) (0.11.0)\n",
      "Requirement already satisfied: fonttools>=4.22.0 in d:\\develop\\python310\\lib\\site-packages (from matplotlib->catboost) (4.38.0)\n",
      "Requirement already satisfied: kiwisolver>=1.0.1 in d:\\develop\\python310\\lib\\site-packages (from matplotlib->catboost) (1.4.4)\n",
      "Requirement already satisfied: packaging>=20.0 in d:\\develop\\python310\\lib\\site-packages (from matplotlib->catboost) (23.0)\n",
      "Requirement already satisfied: pillow>=6.2.0 in d:\\develop\\python310\\lib\\site-packages (from matplotlib->catboost) (9.4.0)\n",
      "Requirement already satisfied: pyparsing>=2.3.1 in d:\\develop\\python310\\lib\\site-packages (from matplotlib->catboost) (3.0.9)\n",
      "Requirement already satisfied: tenacity>=6.2.0 in d:\\develop\\python310\\lib\\site-packages (from plotly->catboost) (8.2.3)\n"
     ]
    },
    {
     "name": "stderr",
     "output_type": "stream",
     "text": [
      "\n",
      "[notice] A new release of pip is available: 23.2.1 -> 23.3.1\n",
      "[notice] To update, run: python.exe -m pip install --upgrade pip\n"
     ]
    }
   ],
   "source": [
    "! pip install catboost"
   ]
  },
  {
   "cell_type": "code",
   "execution_count": 24,
   "id": "synthetic-commonwealth",
   "metadata": {},
   "outputs": [],
   "source": [
    "import catboost\n",
    "from catboost import CatBoostClassifier\n",
    "from sklearn.model_selection import train_test_split"
   ]
  },
  {
   "cell_type": "code",
   "execution_count": 25,
   "id": "norwegian-repository",
   "metadata": {},
   "outputs": [],
   "source": [
    "# пропустить, если не получились вектора\n",
    "df = df[df['vector'].notna()]"
   ]
  },
  {
   "cell_type": "code",
   "execution_count": 26,
   "id": "representative-calculator",
   "metadata": {},
   "outputs": [],
   "source": [
    "# 2D Array -> 2D list\n",
    "X = [list(x) for x in df['vector'].values]\n",
    "# One Hot Encoding\n",
    "y = df['sentiment'].apply(lambda x: 1 if x == 'positive' else 0)"
   ]
  },
  {
   "cell_type": "code",
   "execution_count": 27,
   "id": "proof-thread",
   "metadata": {},
   "outputs": [],
   "source": [
    "X_train, X_test, y_train, y_test = train_test_split(X, y, test_size=0.2, random_state=42)"
   ]
  },
  {
   "cell_type": "code",
   "execution_count": 28,
   "id": "accurate-optimum",
   "metadata": {},
   "outputs": [],
   "source": [
    "catboost_model = CatBoostClassifier()"
   ]
  },
  {
   "cell_type": "code",
   "execution_count": 29,
   "id": "dying-lender",
   "metadata": {},
   "outputs": [
    {
     "name": "stdout",
     "output_type": "stream",
     "text": [
      "Learning rate set to 0.082403\n",
      "0:\tlearn: 0.6262545\ttest: 0.6262949\tbest: 0.6262949 (0)\ttotal: 158ms\tremaining: 2m 37s\n",
      "50:\tlearn: 0.2450498\ttest: 0.2516616\tbest: 0.2516616 (50)\ttotal: 1.42s\tremaining: 26.4s\n",
      "100:\tlearn: 0.2180560\ttest: 0.2308790\tbest: 0.2308790 (100)\ttotal: 2.64s\tremaining: 23.5s\n",
      "150:\tlearn: 0.2021515\ttest: 0.2220587\tbest: 0.2220587 (150)\ttotal: 3.91s\tremaining: 22s\n",
      "200:\tlearn: 0.1881478\ttest: 0.2167707\tbest: 0.2167707 (200)\ttotal: 5.22s\tremaining: 20.7s\n",
      "250:\tlearn: 0.1762713\ttest: 0.2131131\tbest: 0.2131131 (250)\ttotal: 6.53s\tremaining: 19.5s\n",
      "300:\tlearn: 0.1669222\ttest: 0.2112689\tbest: 0.2112689 (300)\ttotal: 7.76s\tremaining: 18s\n",
      "350:\tlearn: 0.1578810\ttest: 0.2095917\tbest: 0.2095917 (350)\ttotal: 8.99s\tremaining: 16.6s\n",
      "400:\tlearn: 0.1499806\ttest: 0.2081083\tbest: 0.2080756 (399)\ttotal: 10.3s\tremaining: 15.3s\n",
      "450:\tlearn: 0.1428735\ttest: 0.2069936\tbest: 0.2069936 (450)\ttotal: 11.8s\tremaining: 14.4s\n",
      "500:\tlearn: 0.1359917\ttest: 0.2061509\tbest: 0.2061509 (500)\ttotal: 13.2s\tremaining: 13.2s\n",
      "550:\tlearn: 0.1299634\ttest: 0.2055898\tbest: 0.2055689 (549)\ttotal: 14.7s\tremaining: 12s\n",
      "600:\tlearn: 0.1243394\ttest: 0.2051044\tbest: 0.2051044 (600)\ttotal: 16.3s\tremaining: 10.8s\n",
      "650:\tlearn: 0.1189242\ttest: 0.2046557\tbest: 0.2046557 (650)\ttotal: 17.6s\tremaining: 9.43s\n",
      "700:\tlearn: 0.1140072\ttest: 0.2039349\tbest: 0.2039349 (700)\ttotal: 18.8s\tremaining: 8.03s\n",
      "750:\tlearn: 0.1091416\ttest: 0.2039569\tbest: 0.2038465 (747)\ttotal: 20s\tremaining: 6.64s\n",
      "800:\tlearn: 0.1045505\ttest: 0.2037364\tbest: 0.2037364 (800)\ttotal: 21.3s\tremaining: 5.28s\n",
      "850:\tlearn: 0.1000575\ttest: 0.2032000\tbest: 0.2031559 (847)\ttotal: 22.5s\tremaining: 3.94s\n",
      "900:\tlearn: 0.0959182\ttest: 0.2034110\tbest: 0.2031559 (847)\ttotal: 23.7s\tremaining: 2.6s\n",
      "950:\tlearn: 0.0921801\ttest: 0.2033947\tbest: 0.2031559 (847)\ttotal: 24.9s\tremaining: 1.28s\n",
      "999:\tlearn: 0.0885533\ttest: 0.2036254\tbest: 0.2031559 (847)\ttotal: 26.1s\tremaining: 0us\n",
      "\n",
      "bestTest = 0.2031558509\n",
      "bestIteration = 847\n",
      "\n",
      "Shrink model to first 848 iterations.\n"
     ]
    },
    {
     "data": {
      "text/plain": [
       "<catboost.core.CatBoostClassifier at 0x260c5617040>"
      ]
     },
     "execution_count": 29,
     "metadata": {},
     "output_type": "execute_result"
    }
   ],
   "source": [
    "catboost_model.fit(X_train, y_train, eval_set=(X_test, y_test), verbose=50)"
   ]
  },
  {
   "cell_type": "code",
   "execution_count": 30,
   "id": "mathematical-contest",
   "metadata": {},
   "outputs": [],
   "source": [
    "y_pred = catboost_model.predict_proba(X_test)"
   ]
  },
  {
   "cell_type": "code",
   "execution_count": 31,
   "id": "crazy-terrorism",
   "metadata": {},
   "outputs": [],
   "source": [
    "from sklearn.metrics import roc_auc_score"
   ]
  },
  {
   "cell_type": "code",
   "execution_count": 32,
   "id": "dietary-orientation",
   "metadata": {},
   "outputs": [
    {
     "data": {
      "text/plain": [
       "0.9743307056957566"
      ]
     },
     "execution_count": 32,
     "metadata": {},
     "output_type": "execute_result"
    }
   ],
   "source": [
    "roc_auc_score(y_test, y_pred[:, 1])"
   ]
  },
  {
   "cell_type": "markdown",
   "id": "287629f1",
   "metadata": {},
   "source": [
    "roc_auc_score\n",
    "\n",
    "с первой лабы: 0.9749\n",
    "\n",
    "Вариант 1: 0.9752\n",
    "\n",
    "Вариант 2: 0.9743"
   ]
  }
 ],
 "metadata": {
  "kernelspec": {
   "display_name": "Python 3",
   "language": "python",
   "name": "python3"
  },
  "language_info": {
   "codemirror_mode": {
    "name": "ipython",
    "version": 3
   },
   "file_extension": ".py",
   "mimetype": "text/x-python",
   "name": "python",
   "nbconvert_exporter": "python",
   "pygments_lexer": "ipython3",
   "version": "3.10.10"
  }
 },
 "nbformat": 4,
 "nbformat_minor": 5
}
